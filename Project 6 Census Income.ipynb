{
 "cells": [
  {
   "cell_type": "markdown",
   "metadata": {},
   "source": [
    "# Census Income\n",
    "\n",
    "## We are going to predict weather aperson makes over 50k per year or not\n",
    "\n",
    "#### Let's start with importing some important libraries"
   ]
  },
  {
   "cell_type": "code",
   "execution_count": 1,
   "metadata": {},
   "outputs": [],
   "source": [
    "import pandas as pd\n",
    "import numpy as np\n",
    "import matplotlib.pyplot as plt\n",
    "import seaborn as sns\n",
    "import warnings\n",
    "warnings.filterwarnings(\"ignore\")\n",
    "from IPython.display import Markdown,display\n",
    "\n",
    "def printmd(string, color=\"purple\"):\n",
    "    colorstr = \"<span style = 'color:{}' >{}</span>\".format(color,string)\n",
    "    display(Markdown(colorstr))"
   ]
  },
  {
   "cell_type": "markdown",
   "metadata": {},
   "source": [
    "## We will use \"IPython.display\" for print function, to see bold & colorfull text"
   ]
  },
  {
   "cell_type": "markdown",
   "metadata": {},
   "source": [
    "##### This dataset is already splited in train & test data, we have to concatenate the data for our analysis"
   ]
  },
  {
   "cell_type": "code",
   "execution_count": 2,
   "metadata": {},
   "outputs": [],
   "source": [
    "# Defining Columns\n",
    "\n",
    "columns_names = [\"age\",\"workclass\",\"fnlwgt\",\"education\",\"educational-num\",\"marital-status\",\"occupation\",\"relationship\",\"race\",\"gender\",\"capital-gain\",\"capital-loss\",\"hours-per-week\",\"native-country\",\"target\"]"
   ]
  },
  {
   "cell_type": "markdown",
   "metadata": {},
   "source": [
    "### Loading  Final Dataset"
   ]
  },
  {
   "cell_type": "code",
   "execution_count": 3,
   "metadata": {},
   "outputs": [
    {
     "data": {
      "text/markdown": [
       "<span style = 'color:purple' >**Train Data**</span>"
      ],
      "text/plain": [
       "<IPython.core.display.Markdown object>"
      ]
     },
     "metadata": {},
     "output_type": "display_data"
    },
    {
     "data": {
      "text/html": [
       "<div>\n",
       "<style scoped>\n",
       "    .dataframe tbody tr th:only-of-type {\n",
       "        vertical-align: middle;\n",
       "    }\n",
       "\n",
       "    .dataframe tbody tr th {\n",
       "        vertical-align: top;\n",
       "    }\n",
       "\n",
       "    .dataframe thead th {\n",
       "        text-align: right;\n",
       "    }\n",
       "</style>\n",
       "<table border=\"1\" class=\"dataframe\">\n",
       "  <thead>\n",
       "    <tr style=\"text-align: right;\">\n",
       "      <th></th>\n",
       "      <th>age</th>\n",
       "      <th>workclass</th>\n",
       "      <th>fnlwgt</th>\n",
       "      <th>education</th>\n",
       "      <th>educational-num</th>\n",
       "      <th>marital-status</th>\n",
       "      <th>occupation</th>\n",
       "      <th>relationship</th>\n",
       "      <th>race</th>\n",
       "      <th>gender</th>\n",
       "      <th>capital-gain</th>\n",
       "      <th>capital-loss</th>\n",
       "      <th>hours-per-week</th>\n",
       "      <th>native-country</th>\n",
       "      <th>target</th>\n",
       "    </tr>\n",
       "  </thead>\n",
       "  <tbody>\n",
       "    <tr>\n",
       "      <th>0</th>\n",
       "      <td>39</td>\n",
       "      <td>State-gov</td>\n",
       "      <td>77516</td>\n",
       "      <td>Bachelors</td>\n",
       "      <td>13</td>\n",
       "      <td>Never-married</td>\n",
       "      <td>Adm-clerical</td>\n",
       "      <td>Not-in-family</td>\n",
       "      <td>White</td>\n",
       "      <td>Male</td>\n",
       "      <td>2174</td>\n",
       "      <td>0</td>\n",
       "      <td>40</td>\n",
       "      <td>United-States</td>\n",
       "      <td>&lt;=50K</td>\n",
       "    </tr>\n",
       "    <tr>\n",
       "      <th>1</th>\n",
       "      <td>50</td>\n",
       "      <td>Self-emp-not-inc</td>\n",
       "      <td>83311</td>\n",
       "      <td>Bachelors</td>\n",
       "      <td>13</td>\n",
       "      <td>Married-civ-spouse</td>\n",
       "      <td>Exec-managerial</td>\n",
       "      <td>Husband</td>\n",
       "      <td>White</td>\n",
       "      <td>Male</td>\n",
       "      <td>0</td>\n",
       "      <td>0</td>\n",
       "      <td>13</td>\n",
       "      <td>United-States</td>\n",
       "      <td>&lt;=50K</td>\n",
       "    </tr>\n",
       "    <tr>\n",
       "      <th>2</th>\n",
       "      <td>38</td>\n",
       "      <td>Private</td>\n",
       "      <td>215646</td>\n",
       "      <td>HS-grad</td>\n",
       "      <td>9</td>\n",
       "      <td>Divorced</td>\n",
       "      <td>Handlers-cleaners</td>\n",
       "      <td>Not-in-family</td>\n",
       "      <td>White</td>\n",
       "      <td>Male</td>\n",
       "      <td>0</td>\n",
       "      <td>0</td>\n",
       "      <td>40</td>\n",
       "      <td>United-States</td>\n",
       "      <td>&lt;=50K</td>\n",
       "    </tr>\n",
       "    <tr>\n",
       "      <th>3</th>\n",
       "      <td>53</td>\n",
       "      <td>Private</td>\n",
       "      <td>234721</td>\n",
       "      <td>11th</td>\n",
       "      <td>7</td>\n",
       "      <td>Married-civ-spouse</td>\n",
       "      <td>Handlers-cleaners</td>\n",
       "      <td>Husband</td>\n",
       "      <td>Black</td>\n",
       "      <td>Male</td>\n",
       "      <td>0</td>\n",
       "      <td>0</td>\n",
       "      <td>40</td>\n",
       "      <td>United-States</td>\n",
       "      <td>&lt;=50K</td>\n",
       "    </tr>\n",
       "    <tr>\n",
       "      <th>4</th>\n",
       "      <td>28</td>\n",
       "      <td>Private</td>\n",
       "      <td>338409</td>\n",
       "      <td>Bachelors</td>\n",
       "      <td>13</td>\n",
       "      <td>Married-civ-spouse</td>\n",
       "      <td>Prof-specialty</td>\n",
       "      <td>Wife</td>\n",
       "      <td>Black</td>\n",
       "      <td>Female</td>\n",
       "      <td>0</td>\n",
       "      <td>0</td>\n",
       "      <td>40</td>\n",
       "      <td>Cuba</td>\n",
       "      <td>&lt;=50K</td>\n",
       "    </tr>\n",
       "  </tbody>\n",
       "</table>\n",
       "</div>"
      ],
      "text/plain": [
       "   age         workclass  fnlwgt  education  educational-num  \\\n",
       "0   39         State-gov   77516  Bachelors               13   \n",
       "1   50  Self-emp-not-inc   83311  Bachelors               13   \n",
       "2   38           Private  215646    HS-grad                9   \n",
       "3   53           Private  234721       11th                7   \n",
       "4   28           Private  338409  Bachelors               13   \n",
       "\n",
       "       marital-status         occupation   relationship   race  gender  \\\n",
       "0       Never-married       Adm-clerical  Not-in-family  White    Male   \n",
       "1  Married-civ-spouse    Exec-managerial        Husband  White    Male   \n",
       "2            Divorced  Handlers-cleaners  Not-in-family  White    Male   \n",
       "3  Married-civ-spouse  Handlers-cleaners        Husband  Black    Male   \n",
       "4  Married-civ-spouse     Prof-specialty           Wife  Black  Female   \n",
       "\n",
       "   capital-gain  capital-loss  hours-per-week native-country target  \n",
       "0          2174             0              40  United-States  <=50K  \n",
       "1             0             0              13  United-States  <=50K  \n",
       "2             0             0              40  United-States  <=50K  \n",
       "3             0             0              40  United-States  <=50K  \n",
       "4             0             0              40           Cuba  <=50K  "
      ]
     },
     "execution_count": 3,
     "metadata": {},
     "output_type": "execute_result"
    }
   ],
   "source": [
    "train = pd.read_csv(\"adult.data.csv\", sep = \",\\s\", header = None, names = columns_names, engine = \"python\")\n",
    "printmd(\"**Train Data**\")\n",
    "train.head()"
   ]
  },
  {
   "cell_type": "code",
   "execution_count": 4,
   "metadata": {},
   "outputs": [
    {
     "data": {
      "text/plain": [
       "(32561, 15)"
      ]
     },
     "execution_count": 4,
     "metadata": {},
     "output_type": "execute_result"
    }
   ],
   "source": [
    "train.shape"
   ]
  },
  {
   "cell_type": "code",
   "execution_count": 5,
   "metadata": {},
   "outputs": [
    {
     "data": {
      "text/markdown": [
       "<span style = 'color:purple' >**Test Data**</span>"
      ],
      "text/plain": [
       "<IPython.core.display.Markdown object>"
      ]
     },
     "metadata": {},
     "output_type": "display_data"
    },
    {
     "data": {
      "text/html": [
       "<div>\n",
       "<style scoped>\n",
       "    .dataframe tbody tr th:only-of-type {\n",
       "        vertical-align: middle;\n",
       "    }\n",
       "\n",
       "    .dataframe tbody tr th {\n",
       "        vertical-align: top;\n",
       "    }\n",
       "\n",
       "    .dataframe thead th {\n",
       "        text-align: right;\n",
       "    }\n",
       "</style>\n",
       "<table border=\"1\" class=\"dataframe\">\n",
       "  <thead>\n",
       "    <tr style=\"text-align: right;\">\n",
       "      <th></th>\n",
       "      <th>age</th>\n",
       "      <th>workclass</th>\n",
       "      <th>fnlwgt</th>\n",
       "      <th>education</th>\n",
       "      <th>educational-num</th>\n",
       "      <th>marital-status</th>\n",
       "      <th>occupation</th>\n",
       "      <th>relationship</th>\n",
       "      <th>race</th>\n",
       "      <th>gender</th>\n",
       "      <th>capital-gain</th>\n",
       "      <th>capital-loss</th>\n",
       "      <th>hours-per-week</th>\n",
       "      <th>native-country</th>\n",
       "      <th>target</th>\n",
       "    </tr>\n",
       "  </thead>\n",
       "  <tbody>\n",
       "    <tr>\n",
       "      <th>0</th>\n",
       "      <td>|1x3 Cross validator</td>\n",
       "      <td>None</td>\n",
       "      <td>NaN</td>\n",
       "      <td>None</td>\n",
       "      <td>NaN</td>\n",
       "      <td>None</td>\n",
       "      <td>None</td>\n",
       "      <td>None</td>\n",
       "      <td>None</td>\n",
       "      <td>None</td>\n",
       "      <td>NaN</td>\n",
       "      <td>NaN</td>\n",
       "      <td>NaN</td>\n",
       "      <td>None</td>\n",
       "      <td>None</td>\n",
       "    </tr>\n",
       "    <tr>\n",
       "      <th>1</th>\n",
       "      <td>25</td>\n",
       "      <td>Private</td>\n",
       "      <td>226802.0</td>\n",
       "      <td>11th</td>\n",
       "      <td>7.0</td>\n",
       "      <td>Never-married</td>\n",
       "      <td>Machine-op-inspct</td>\n",
       "      <td>Own-child</td>\n",
       "      <td>Black</td>\n",
       "      <td>Male</td>\n",
       "      <td>0.0</td>\n",
       "      <td>0.0</td>\n",
       "      <td>40.0</td>\n",
       "      <td>United-States</td>\n",
       "      <td>&lt;=50K</td>\n",
       "    </tr>\n",
       "    <tr>\n",
       "      <th>2</th>\n",
       "      <td>38</td>\n",
       "      <td>Private</td>\n",
       "      <td>89814.0</td>\n",
       "      <td>HS-grad</td>\n",
       "      <td>9.0</td>\n",
       "      <td>Married-civ-spouse</td>\n",
       "      <td>Farming-fishing</td>\n",
       "      <td>Husband</td>\n",
       "      <td>White</td>\n",
       "      <td>Male</td>\n",
       "      <td>0.0</td>\n",
       "      <td>0.0</td>\n",
       "      <td>50.0</td>\n",
       "      <td>United-States</td>\n",
       "      <td>&lt;=50K</td>\n",
       "    </tr>\n",
       "    <tr>\n",
       "      <th>3</th>\n",
       "      <td>28</td>\n",
       "      <td>Local-gov</td>\n",
       "      <td>336951.0</td>\n",
       "      <td>Assoc-acdm</td>\n",
       "      <td>12.0</td>\n",
       "      <td>Married-civ-spouse</td>\n",
       "      <td>Protective-serv</td>\n",
       "      <td>Husband</td>\n",
       "      <td>White</td>\n",
       "      <td>Male</td>\n",
       "      <td>0.0</td>\n",
       "      <td>0.0</td>\n",
       "      <td>40.0</td>\n",
       "      <td>United-States</td>\n",
       "      <td>&gt;50K</td>\n",
       "    </tr>\n",
       "    <tr>\n",
       "      <th>4</th>\n",
       "      <td>44</td>\n",
       "      <td>Private</td>\n",
       "      <td>160323.0</td>\n",
       "      <td>Some-college</td>\n",
       "      <td>10.0</td>\n",
       "      <td>Married-civ-spouse</td>\n",
       "      <td>Machine-op-inspct</td>\n",
       "      <td>Husband</td>\n",
       "      <td>Black</td>\n",
       "      <td>Male</td>\n",
       "      <td>7688.0</td>\n",
       "      <td>0.0</td>\n",
       "      <td>40.0</td>\n",
       "      <td>United-States</td>\n",
       "      <td>&gt;50K</td>\n",
       "    </tr>\n",
       "  </tbody>\n",
       "</table>\n",
       "</div>"
      ],
      "text/plain": [
       "                    age  workclass    fnlwgt     education  educational-num  \\\n",
       "0  |1x3 Cross validator       None       NaN          None              NaN   \n",
       "1                    25    Private  226802.0          11th              7.0   \n",
       "2                    38    Private   89814.0       HS-grad              9.0   \n",
       "3                    28  Local-gov  336951.0    Assoc-acdm             12.0   \n",
       "4                    44    Private  160323.0  Some-college             10.0   \n",
       "\n",
       "       marital-status         occupation relationship   race gender  \\\n",
       "0                None               None         None   None   None   \n",
       "1       Never-married  Machine-op-inspct    Own-child  Black   Male   \n",
       "2  Married-civ-spouse    Farming-fishing      Husband  White   Male   \n",
       "3  Married-civ-spouse    Protective-serv      Husband  White   Male   \n",
       "4  Married-civ-spouse  Machine-op-inspct      Husband  Black   Male   \n",
       "\n",
       "   capital-gain  capital-loss  hours-per-week native-country target  \n",
       "0           NaN           NaN             NaN           None   None  \n",
       "1           0.0           0.0            40.0  United-States  <=50K  \n",
       "2           0.0           0.0            50.0  United-States  <=50K  \n",
       "3           0.0           0.0            40.0  United-States   >50K  \n",
       "4        7688.0           0.0            40.0  United-States   >50K  "
      ]
     },
     "execution_count": 5,
     "metadata": {},
     "output_type": "execute_result"
    }
   ],
   "source": [
    "test = pd.read_csv(\"adult.test.csv\", sep=\",\\s\", header=None, names= columns_names, engine= \"python\")\n",
    "test[\"target\"].replace(regex=True, inplace = True, to_replace=r\"\\.\",value=r\"\")\n",
    "printmd(\"**Test Data**\")\n",
    "test.head()"
   ]
  },
  {
   "cell_type": "code",
   "execution_count": 6,
   "metadata": {},
   "outputs": [
    {
     "data": {
      "text/plain": [
       "(16282, 15)"
      ]
     },
     "execution_count": 6,
     "metadata": {},
     "output_type": "execute_result"
    }
   ],
   "source": [
    "test.shape"
   ]
  },
  {
   "cell_type": "code",
   "execution_count": 7,
   "metadata": {},
   "outputs": [
    {
     "data": {
      "text/plain": [
       "(16281, 15)"
      ]
     },
     "execution_count": 7,
     "metadata": {},
     "output_type": "execute_result"
    }
   ],
   "source": [
    "test.drop(0,axis=0,inplace=True)\n",
    "test.shape"
   ]
  },
  {
   "cell_type": "markdown",
   "metadata": {},
   "source": [
    "## Now we are going to Add / Concatenate, the train & test Data"
   ]
  },
  {
   "cell_type": "code",
   "execution_count": 8,
   "metadata": {},
   "outputs": [
    {
     "data": {
      "text/markdown": [
       "<span style = 'color:purple' >**Final Data**</span>"
      ],
      "text/plain": [
       "<IPython.core.display.Markdown object>"
      ]
     },
     "metadata": {},
     "output_type": "display_data"
    },
    {
     "data": {
      "text/html": [
       "<div>\n",
       "<style scoped>\n",
       "    .dataframe tbody tr th:only-of-type {\n",
       "        vertical-align: middle;\n",
       "    }\n",
       "\n",
       "    .dataframe tbody tr th {\n",
       "        vertical-align: top;\n",
       "    }\n",
       "\n",
       "    .dataframe thead th {\n",
       "        text-align: right;\n",
       "    }\n",
       "</style>\n",
       "<table border=\"1\" class=\"dataframe\">\n",
       "  <thead>\n",
       "    <tr style=\"text-align: right;\">\n",
       "      <th></th>\n",
       "      <th>age</th>\n",
       "      <th>workclass</th>\n",
       "      <th>fnlwgt</th>\n",
       "      <th>education</th>\n",
       "      <th>educational-num</th>\n",
       "      <th>marital-status</th>\n",
       "      <th>occupation</th>\n",
       "      <th>relationship</th>\n",
       "      <th>race</th>\n",
       "      <th>gender</th>\n",
       "      <th>capital-gain</th>\n",
       "      <th>capital-loss</th>\n",
       "      <th>hours-per-week</th>\n",
       "      <th>native-country</th>\n",
       "      <th>target</th>\n",
       "    </tr>\n",
       "  </thead>\n",
       "  <tbody>\n",
       "    <tr>\n",
       "      <th>0</th>\n",
       "      <td>39</td>\n",
       "      <td>State-gov</td>\n",
       "      <td>77516.0</td>\n",
       "      <td>Bachelors</td>\n",
       "      <td>13.0</td>\n",
       "      <td>Never-married</td>\n",
       "      <td>Adm-clerical</td>\n",
       "      <td>Not-in-family</td>\n",
       "      <td>White</td>\n",
       "      <td>Male</td>\n",
       "      <td>2174.0</td>\n",
       "      <td>0.0</td>\n",
       "      <td>40.0</td>\n",
       "      <td>United-States</td>\n",
       "      <td>&lt;=50K</td>\n",
       "    </tr>\n",
       "    <tr>\n",
       "      <th>1</th>\n",
       "      <td>50</td>\n",
       "      <td>Self-emp-not-inc</td>\n",
       "      <td>83311.0</td>\n",
       "      <td>Bachelors</td>\n",
       "      <td>13.0</td>\n",
       "      <td>Married-civ-spouse</td>\n",
       "      <td>Exec-managerial</td>\n",
       "      <td>Husband</td>\n",
       "      <td>White</td>\n",
       "      <td>Male</td>\n",
       "      <td>0.0</td>\n",
       "      <td>0.0</td>\n",
       "      <td>13.0</td>\n",
       "      <td>United-States</td>\n",
       "      <td>&lt;=50K</td>\n",
       "    </tr>\n",
       "    <tr>\n",
       "      <th>2</th>\n",
       "      <td>38</td>\n",
       "      <td>Private</td>\n",
       "      <td>215646.0</td>\n",
       "      <td>HS-grad</td>\n",
       "      <td>9.0</td>\n",
       "      <td>Divorced</td>\n",
       "      <td>Handlers-cleaners</td>\n",
       "      <td>Not-in-family</td>\n",
       "      <td>White</td>\n",
       "      <td>Male</td>\n",
       "      <td>0.0</td>\n",
       "      <td>0.0</td>\n",
       "      <td>40.0</td>\n",
       "      <td>United-States</td>\n",
       "      <td>&lt;=50K</td>\n",
       "    </tr>\n",
       "    <tr>\n",
       "      <th>3</th>\n",
       "      <td>53</td>\n",
       "      <td>Private</td>\n",
       "      <td>234721.0</td>\n",
       "      <td>11th</td>\n",
       "      <td>7.0</td>\n",
       "      <td>Married-civ-spouse</td>\n",
       "      <td>Handlers-cleaners</td>\n",
       "      <td>Husband</td>\n",
       "      <td>Black</td>\n",
       "      <td>Male</td>\n",
       "      <td>0.0</td>\n",
       "      <td>0.0</td>\n",
       "      <td>40.0</td>\n",
       "      <td>United-States</td>\n",
       "      <td>&lt;=50K</td>\n",
       "    </tr>\n",
       "    <tr>\n",
       "      <th>4</th>\n",
       "      <td>28</td>\n",
       "      <td>Private</td>\n",
       "      <td>338409.0</td>\n",
       "      <td>Bachelors</td>\n",
       "      <td>13.0</td>\n",
       "      <td>Married-civ-spouse</td>\n",
       "      <td>Prof-specialty</td>\n",
       "      <td>Wife</td>\n",
       "      <td>Black</td>\n",
       "      <td>Female</td>\n",
       "      <td>0.0</td>\n",
       "      <td>0.0</td>\n",
       "      <td>40.0</td>\n",
       "      <td>Cuba</td>\n",
       "      <td>&lt;=50K</td>\n",
       "    </tr>\n",
       "  </tbody>\n",
       "</table>\n",
       "</div>"
      ],
      "text/plain": [
       "  age         workclass    fnlwgt  education  educational-num  \\\n",
       "0  39         State-gov   77516.0  Bachelors             13.0   \n",
       "1  50  Self-emp-not-inc   83311.0  Bachelors             13.0   \n",
       "2  38           Private  215646.0    HS-grad              9.0   \n",
       "3  53           Private  234721.0       11th              7.0   \n",
       "4  28           Private  338409.0  Bachelors             13.0   \n",
       "\n",
       "       marital-status         occupation   relationship   race  gender  \\\n",
       "0       Never-married       Adm-clerical  Not-in-family  White    Male   \n",
       "1  Married-civ-spouse    Exec-managerial        Husband  White    Male   \n",
       "2            Divorced  Handlers-cleaners  Not-in-family  White    Male   \n",
       "3  Married-civ-spouse  Handlers-cleaners        Husband  Black    Male   \n",
       "4  Married-civ-spouse     Prof-specialty           Wife  Black  Female   \n",
       "\n",
       "   capital-gain  capital-loss  hours-per-week native-country target  \n",
       "0        2174.0           0.0            40.0  United-States  <=50K  \n",
       "1           0.0           0.0            13.0  United-States  <=50K  \n",
       "2           0.0           0.0            40.0  United-States  <=50K  \n",
       "3           0.0           0.0            40.0  United-States  <=50K  \n",
       "4           0.0           0.0            40.0           Cuba  <=50K  "
      ]
     },
     "execution_count": 8,
     "metadata": {},
     "output_type": "execute_result"
    }
   ],
   "source": [
    "df = pd.concat([train,test])\n",
    "df.reset_index(inplace = True, drop=True)\n",
    "printmd(\"**Final Data**\")\n",
    "df.head()"
   ]
  },
  {
   "cell_type": "code",
   "execution_count": 9,
   "metadata": {},
   "outputs": [
    {
     "data": {
      "text/plain": [
       "(48842, 15)"
      ]
     },
     "execution_count": 9,
     "metadata": {},
     "output_type": "execute_result"
    }
   ],
   "source": [
    "df.shape"
   ]
  },
  {
   "cell_type": "markdown",
   "metadata": {},
   "source": [
    "# 1) Basic Analysis\n",
    "\n",
    "##### converting all categorical columns to type category"
   ]
  },
  {
   "cell_type": "code",
   "execution_count": 10,
   "metadata": {},
   "outputs": [
    {
     "data": {
      "text/markdown": [
       "<span style = 'color:purple' >**Columnns & their types**</span>"
      ],
      "text/plain": [
       "<IPython.core.display.Markdown object>"
      ]
     },
     "metadata": {},
     "output_type": "display_data"
    },
    {
     "name": "stdout",
     "output_type": "stream",
     "text": [
      "<class 'pandas.core.frame.DataFrame'>\n",
      "RangeIndex: 48842 entries, 0 to 48841\n",
      "Data columns (total 15 columns):\n",
      " #   Column           Non-Null Count  Dtype   \n",
      "---  ------           --------------  -----   \n",
      " 0   age              48842 non-null  category\n",
      " 1   workclass        48842 non-null  category\n",
      " 2   fnlwgt           48842 non-null  float64 \n",
      " 3   education        48842 non-null  category\n",
      " 4   educational-num  48842 non-null  float64 \n",
      " 5   marital-status   48842 non-null  category\n",
      " 6   occupation       48842 non-null  category\n",
      " 7   relationship     48842 non-null  category\n",
      " 8   race             48842 non-null  category\n",
      " 9   gender           48842 non-null  category\n",
      " 10  capital-gain     48842 non-null  float64 \n",
      " 11  capital-loss     48842 non-null  float64 \n",
      " 12  hours-per-week   48842 non-null  float64 \n",
      " 13  native-country   48842 non-null  category\n",
      " 14  target           48842 non-null  category\n",
      "dtypes: category(10), float64(5)\n",
      "memory usage: 2.4 MB\n"
     ]
    }
   ],
   "source": [
    "for col in set(df.columns) - set(df.describe().columns):\n",
    "    df[col] = df[col].astype(\"category\")\n",
    "    \n",
    "printmd(\"**Columnns & their types**\")\n",
    "df.info()"
   ]
  },
  {
   "cell_type": "code",
   "execution_count": 11,
   "metadata": {},
   "outputs": [
    {
     "data": {
      "text/markdown": [
       "<span style = 'color:purple' >**Statistics**</span>"
      ],
      "text/plain": [
       "<IPython.core.display.Markdown object>"
      ]
     },
     "metadata": {},
     "output_type": "display_data"
    },
    {
     "data": {
      "text/html": [
       "<div>\n",
       "<style scoped>\n",
       "    .dataframe tbody tr th:only-of-type {\n",
       "        vertical-align: middle;\n",
       "    }\n",
       "\n",
       "    .dataframe tbody tr th {\n",
       "        vertical-align: top;\n",
       "    }\n",
       "\n",
       "    .dataframe thead th {\n",
       "        text-align: right;\n",
       "    }\n",
       "</style>\n",
       "<table border=\"1\" class=\"dataframe\">\n",
       "  <thead>\n",
       "    <tr style=\"text-align: right;\">\n",
       "      <th></th>\n",
       "      <th>fnlwgt</th>\n",
       "      <th>educational-num</th>\n",
       "      <th>capital-gain</th>\n",
       "      <th>capital-loss</th>\n",
       "      <th>hours-per-week</th>\n",
       "    </tr>\n",
       "  </thead>\n",
       "  <tbody>\n",
       "    <tr>\n",
       "      <th>count</th>\n",
       "      <td>4.884200e+04</td>\n",
       "      <td>48842.000000</td>\n",
       "      <td>48842.000000</td>\n",
       "      <td>48842.000000</td>\n",
       "      <td>48842.000000</td>\n",
       "    </tr>\n",
       "    <tr>\n",
       "      <th>mean</th>\n",
       "      <td>1.896641e+05</td>\n",
       "      <td>10.078089</td>\n",
       "      <td>1079.067626</td>\n",
       "      <td>87.502314</td>\n",
       "      <td>40.422382</td>\n",
       "    </tr>\n",
       "    <tr>\n",
       "      <th>std</th>\n",
       "      <td>1.056040e+05</td>\n",
       "      <td>2.570973</td>\n",
       "      <td>7452.019058</td>\n",
       "      <td>403.004552</td>\n",
       "      <td>12.391444</td>\n",
       "    </tr>\n",
       "    <tr>\n",
       "      <th>min</th>\n",
       "      <td>1.228500e+04</td>\n",
       "      <td>1.000000</td>\n",
       "      <td>0.000000</td>\n",
       "      <td>0.000000</td>\n",
       "      <td>1.000000</td>\n",
       "    </tr>\n",
       "    <tr>\n",
       "      <th>25%</th>\n",
       "      <td>1.175505e+05</td>\n",
       "      <td>9.000000</td>\n",
       "      <td>0.000000</td>\n",
       "      <td>0.000000</td>\n",
       "      <td>40.000000</td>\n",
       "    </tr>\n",
       "    <tr>\n",
       "      <th>50%</th>\n",
       "      <td>1.781445e+05</td>\n",
       "      <td>10.000000</td>\n",
       "      <td>0.000000</td>\n",
       "      <td>0.000000</td>\n",
       "      <td>40.000000</td>\n",
       "    </tr>\n",
       "    <tr>\n",
       "      <th>75%</th>\n",
       "      <td>2.376420e+05</td>\n",
       "      <td>12.000000</td>\n",
       "      <td>0.000000</td>\n",
       "      <td>0.000000</td>\n",
       "      <td>45.000000</td>\n",
       "    </tr>\n",
       "    <tr>\n",
       "      <th>max</th>\n",
       "      <td>1.490400e+06</td>\n",
       "      <td>16.000000</td>\n",
       "      <td>99999.000000</td>\n",
       "      <td>4356.000000</td>\n",
       "      <td>99.000000</td>\n",
       "    </tr>\n",
       "  </tbody>\n",
       "</table>\n",
       "</div>"
      ],
      "text/plain": [
       "             fnlwgt  educational-num  capital-gain  capital-loss  \\\n",
       "count  4.884200e+04     48842.000000  48842.000000  48842.000000   \n",
       "mean   1.896641e+05        10.078089   1079.067626     87.502314   \n",
       "std    1.056040e+05         2.570973   7452.019058    403.004552   \n",
       "min    1.228500e+04         1.000000      0.000000      0.000000   \n",
       "25%    1.175505e+05         9.000000      0.000000      0.000000   \n",
       "50%    1.781445e+05        10.000000      0.000000      0.000000   \n",
       "75%    2.376420e+05        12.000000      0.000000      0.000000   \n",
       "max    1.490400e+06        16.000000  99999.000000   4356.000000   \n",
       "\n",
       "       hours-per-week  \n",
       "count    48842.000000  \n",
       "mean        40.422382  \n",
       "std         12.391444  \n",
       "min          1.000000  \n",
       "25%         40.000000  \n",
       "50%         40.000000  \n",
       "75%         45.000000  \n",
       "max         99.000000  "
      ]
     },
     "execution_count": 11,
     "metadata": {},
     "output_type": "execute_result"
    }
   ],
   "source": [
    "printmd(\"**Statistics**\")\n",
    "df.describe()"
   ]
  },
  {
   "cell_type": "code",
   "execution_count": 12,
   "metadata": {},
   "outputs": [
    {
     "data": {
      "text/markdown": [
       "<span style = 'color:purple' >**Let's see the Total number of individuals making more 50K per year, in numbers as well as in percentage**</span>"
      ],
      "text/plain": [
       "<IPython.core.display.Markdown object>"
      ]
     },
     "metadata": {},
     "output_type": "display_data"
    },
    {
     "name": "stdout",
     "output_type": "stream",
     "text": [
      "Total number of records: 48842\n",
      "Individuals making more than 50K INR :11687\n",
      "Individuals making at most  50K INR :37155\n",
      "Percentage of individuals making more than 50K INR:23.928176569346054%\n"
     ]
    }
   ],
   "source": [
    "printmd(\"**Let's see the Total number of individuals making more 50K per year, in numbers as well as in percentage**\")\n",
    "total_records = df.shape[0]\n",
    "income_greater_50K = df[df[\"target\"] == \">50K\"].shape[0]\n",
    "income_at_most_50K = df[df[\"target\"] == \"<=50K\"].shape[0]\n",
    "greater_percent = (income_greater_50K / total_records)*100\n",
    "\n",
    "print(\"Total number of records: {}\".format(total_records))\n",
    "print(\"Individuals making more than 50K INR :{}\".format(income_greater_50K))\n",
    "print(\"Individuals making at most  50K INR :{}\".format(income_at_most_50K))\n",
    "print(\"Percentage of individuals making more than 50K INR:{}%\".format((greater_percent)))"
   ]
  },
  {
   "cell_type": "markdown",
   "metadata": {},
   "source": [
    "### 1.1 Searching for Null values"
   ]
  },
  {
   "cell_type": "code",
   "execution_count": 13,
   "metadata": {},
   "outputs": [
    {
     "data": {
      "text/markdown": [
       "<span style = 'color:purple' >**Missing values**</span>"
      ],
      "text/plain": [
       "<IPython.core.display.Markdown object>"
      ]
     },
     "metadata": {},
     "output_type": "display_data"
    },
    {
     "data": {
      "text/markdown": [
       "<span style = 'color:purple' >workclass : 2799 records</span>"
      ],
      "text/plain": [
       "<IPython.core.display.Markdown object>"
      ]
     },
     "metadata": {},
     "output_type": "display_data"
    },
    {
     "data": {
      "text/markdown": [
       "<span style = 'color:purple' >occupation : 2809 records</span>"
      ],
      "text/plain": [
       "<IPython.core.display.Markdown object>"
      ]
     },
     "metadata": {},
     "output_type": "display_data"
    },
    {
     "data": {
      "text/markdown": [
       "<span style = 'color:purple' >native-country : 857 records</span>"
      ],
      "text/plain": [
       "<IPython.core.display.Markdown object>"
      ]
     },
     "metadata": {},
     "output_type": "display_data"
    }
   ],
   "source": [
    "printmd(\"**Missing values**\")\n",
    "\n",
    "for i,j in zip (df.columns,(df.values.astype(str) == \"?\").sum(axis=0)):\n",
    "    if j > 0:\n",
    "        printmd(str(i) + \" : \" +str(j) + \" records\")"
   ]
  },
  {
   "cell_type": "code",
   "execution_count": 14,
   "metadata": {},
   "outputs": [
    {
     "data": {
      "text/markdown": [
       "<span style = 'color:purple' >**Missing values in Percentage**</span>"
      ],
      "text/plain": [
       "<IPython.core.display.Markdown object>"
      ]
     },
     "metadata": {},
     "output_type": "display_data"
    },
    {
     "name": "stdout",
     "output_type": "stream",
     "text": [
      "workclass\n",
      "2799\n",
      "5.73%\n",
      "occupation\n",
      "2809\n",
      "5.75%\n",
      "native-country\n",
      "857\n",
      "1.75%\n"
     ]
    }
   ],
   "source": [
    "printmd(\"**Missing values in Percentage**\")\n",
    "\n",
    "col_names =df.columns\n",
    "num_df = df.shape[0]\n",
    "\n",
    "for c in col_names:\n",
    "        num_non = df[c].isin([\"?\"]).sum()\n",
    "        if num_non > 0:\n",
    "            print(c)\n",
    "            print(num_non)\n",
    "            print(\"{0:.2f}%\".format(float(num_non)/ num_df * 100))"
   ]
  },
  {
   "cell_type": "markdown",
   "metadata": {},
   "source": [
    "### 1.2 Treating Missing values by Predicting them for each of 3 columns"
   ]
  },
  {
   "cell_type": "markdown",
   "metadata": {},
   "source": [
    "#### importing some important libraries to predict missing values"
   ]
  },
  {
   "cell_type": "code",
   "execution_count": 15,
   "metadata": {},
   "outputs": [],
   "source": [
    "from sklearn.linear_model import LogisticRegression\n",
    "from sklearn import tree\n",
    "from sklearn.ensemble import RandomForestClassifier"
   ]
  },
  {
   "cell_type": "code",
   "execution_count": 16,
   "metadata": {},
   "outputs": [
    {
     "data": {
      "text/markdown": [
       "<span style = 'color:purple' >**Creating one hot encoding of the categorical columns**</span>"
      ],
      "text/plain": [
       "<IPython.core.display.Markdown object>"
      ]
     },
     "metadata": {},
     "output_type": "display_data"
    }
   ],
   "source": [
    "printmd(\"**Creating one hot encoding of the categorical columns**\")\n",
    "\n",
    "def oneHotCatVars(df, df_cols):\n",
    "    df1 = df_data = df.drop(columns = df_cols, axis =1)\n",
    "    df2 = pd.get_dummies(df[df_cols])\n",
    "    \n",
    "    return (pd.concat([df1, df2], axis=1, join=\"inner\"))"
   ]
  },
  {
   "cell_type": "code",
   "execution_count": 17,
   "metadata": {},
   "outputs": [
    {
     "data": {
      "text/markdown": [
       "<span style = 'color:purple' >**Filling Missing values for workclass column**</span>"
      ],
      "text/plain": [
       "<IPython.core.display.Markdown object>"
      ]
     },
     "metadata": {},
     "output_type": "display_data"
    },
    {
     "name": "stdout",
     "output_type": "stream",
     "text": [
      "Private             36001\n",
      "Self-emp-not-inc     3868\n",
      "Local-gov            3136\n",
      "State-gov            1981\n",
      "Self-emp-inc         1695\n",
      "Federal-gov          1432\n",
      "Never-worked          708\n",
      "Without-pay            21\n",
      "?                       0\n",
      "Name: workclass, dtype: int64\n",
      "[State-gov, Self-emp-not-inc, Private, Federal-gov, Local-gov, Self-emp-inc, Never-worked, Without-pay]\n",
      "Categories (8, object): [State-gov, Self-emp-not-inc, Private, Federal-gov, Local-gov, Self-emp-inc, Never-worked, Without-pay]\n"
     ]
    }
   ],
   "source": [
    "printmd(\"**Filling Missing values for workclass column**\")\n",
    "\n",
    "train_data = df[(df.workclass.values != \"?\")].copy()\n",
    "train_label = train_data.workclass\n",
    "\n",
    "test_data =df[(df.workclass.values == \"?\")].copy()\n",
    "test_label = test_data.workclass\n",
    "\n",
    "train_data.drop(columns = [\"workclass\"], inplace = True)\n",
    "test_data.drop(columns = [\"workclass\"], inplace = True)\n",
    "\n",
    "train_data = oneHotCatVars(train_data, train_data.select_dtypes(\"category\").columns)\n",
    "test_data = oneHotCatVars(test_data, test_data.select_dtypes(\"category\").columns)\n",
    "\n",
    "lr =LogisticRegression()\n",
    "lr.fit(train_data, train_label)\n",
    "lr_pred = lr.predict(test_data)\n",
    "\n",
    "clf= tree.DecisionTreeClassifier()\n",
    "clf = clf.fit(train_data, train_label)\n",
    "clf_pred = clf.predict(test_data)\n",
    "\n",
    "rf = RandomForestClassifier()\n",
    "rf.fit(train_data, train_label)\n",
    "rf_pred = rf.predict(test_data)\n",
    "\n",
    "majority_class = df.workclass.value_counts().index[0]\n",
    "\n",
    "pred_df = pd.DataFrame({\"RFor\": rf_pred, \"DTree\": clf_pred, \"LogReg\": lr_pred})\n",
    "\n",
    "overall_pred = pred_df.apply(lambda x: x.value_counts().index[0] if x.value_counts()[0] > 1\n",
    "                             else majority_class, axis=1)\n",
    "df.loc[(df.workclass.values == \"?\"),\"workclass\"] = overall_pred.values\n",
    "\n",
    "print(df.workclass.value_counts())\n",
    "print(df.workclass.unique())"
   ]
  },
  {
   "cell_type": "code",
   "execution_count": 18,
   "metadata": {
    "scrolled": true
   },
   "outputs": [
    {
     "data": {
      "text/markdown": [
       "<span style = 'color:purple' >**Filling Missing values for Occupation column**</span>"
      ],
      "text/plain": [
       "<IPython.core.display.Markdown object>"
      ]
     },
     "metadata": {},
     "output_type": "display_data"
    },
    {
     "name": "stdout",
     "output_type": "stream",
     "text": [
      "Prof-specialty       7612\n",
      "Craft-repair         6616\n",
      "Exec-managerial      6151\n",
      "Adm-clerical         5875\n",
      "Sales                5603\n",
      "Other-service        5209\n",
      "Machine-op-inspct    3065\n",
      "Transport-moving     2396\n",
      "Handlers-cleaners    2102\n",
      "Farming-fishing      1511\n",
      "Tech-support         1455\n",
      "Protective-serv       987\n",
      "Priv-house-serv       245\n",
      "Armed-Forces           15\n",
      "?                       0\n",
      "Name: occupation, dtype: int64\n",
      "[Adm-clerical, Exec-managerial, Handlers-cleaners, Prof-specialty, Other-service, ..., Machine-op-inspct, Tech-support, Protective-serv, Armed-Forces, Priv-house-serv]\n",
      "Length: 14\n",
      "Categories (14, object): [Adm-clerical, Exec-managerial, Handlers-cleaners, Prof-specialty, ..., Tech-support, Protective-serv, Armed-Forces, Priv-house-serv]\n"
     ]
    }
   ],
   "source": [
    "printmd(\"**Filling Missing values for Occupation column**\")\n",
    "\n",
    "train_data = df[(df.occupation.values != \"?\")].copy()\n",
    "train_label = train_data.occupation\n",
    "\n",
    "test_data = df[(df.occupation.values == \"?\")].copy()\n",
    "test_label = test_data.occupation\n",
    "\n",
    "train_data.drop(columns = [\"occupation\"], inplace=True)\n",
    "test_data.drop(columns = [\"occupation\"], inplace=True)\n",
    "\n",
    "train_data = oneHotCatVars(train_data, train_data.select_dtypes(\"category\").columns)\n",
    "test_data = oneHotCatVars(test_data, test_data.select_dtypes(\"category\").columns)\n",
    "\n",
    "lr = LogisticRegression()\n",
    "lr.fit(train_data, train_label)\n",
    "lr_pred = lr.predict(test_data)\n",
    "\n",
    "clf = tree.DecisionTreeClassifier()\n",
    "clf = clf.fit(train_data, train_label)\n",
    "clf_pred = clf.predict(test_data)\n",
    "\n",
    "rf = RandomForestClassifier()\n",
    "rf.fit(train_data, train_label)\n",
    "rf_pred = rf.predict(test_data) \n",
    "\n",
    "majority_class = df.occupation.value_counts().index[0]\n",
    "\n",
    "pred_df = pd.DataFrame({\"RFor\": rf_pred, \"DTree\": clf_pred, \"LogReg\": lr_pred})\n",
    "\n",
    "overall_pred = pred_df.apply(lambda x: x.value_counts().index[0] if x.value_counts()[0] > 1\n",
    "                           else majority_class, axis=1)\n",
    "\n",
    "df.loc[(df.occupation.values == \"?\"),\"occupation\"] = overall_pred.values\n",
    "\n",
    "print(df.occupation.value_counts())\n",
    "print(df.occupation.unique())"
   ]
  },
  {
   "cell_type": "code",
   "execution_count": 19,
   "metadata": {},
   "outputs": [
    {
     "data": {
      "text/markdown": [
       "<span style = 'color:purple' >**Filling Missing values for Native-Country columns**</span>"
      ],
      "text/plain": [
       "<IPython.core.display.Markdown object>"
      ]
     },
     "metadata": {},
     "output_type": "display_data"
    },
    {
     "name": "stdout",
     "output_type": "stream",
     "text": [
      "United-States                 44660\n",
      "Mexico                          953\n",
      "Philippines                     306\n",
      "Germany                         206\n",
      "Puerto-Rico                     184\n",
      "Canada                          182\n",
      "El-Salvador                     155\n",
      "India                           155\n",
      "Cuba                            138\n",
      "England                         127\n",
      "China                           124\n",
      "South                           121\n",
      "Jamaica                         106\n",
      "Italy                           105\n",
      "Dominican-Republic              103\n",
      "Japan                            93\n",
      "Guatemala                        88\n",
      "Poland                           87\n",
      "Vietnam                          87\n",
      "Columbia                         85\n",
      "Haiti                            75\n",
      "Taiwan                           67\n",
      "Portugal                         67\n",
      "Iran                             59\n",
      "Greece                           49\n",
      "Nicaragua                        49\n",
      "Peru                             46\n",
      "Ecuador                          45\n",
      "France                           38\n",
      "Ireland                          37\n",
      "Hong                             30\n",
      "Thailand                         30\n",
      "Cambodia                         28\n",
      "Trinadad&Tobago                  27\n",
      "Yugoslavia                       23\n",
      "Laos                             23\n",
      "Outlying-US(Guam-USVI-etc)       23\n",
      "Scotland                         21\n",
      "Honduras                         20\n",
      "Hungary                          19\n",
      "Holand-Netherlands                1\n",
      "?                                 0\n",
      "Name: native-country, dtype: int64\n",
      "[United-States, Cuba, Jamaica, India, Mexico, ..., Vietnam, Hong, Ireland, Hungary, Holand-Netherlands]\n",
      "Length: 41\n",
      "Categories (41, object): [United-States, Cuba, Jamaica, India, ..., Hong, Ireland, Hungary, Holand-Netherlands]\n"
     ]
    }
   ],
   "source": [
    "printmd(\"**Filling Missing values for Native-Country columns**\")\n",
    "\n",
    "train_data = df[(df[\"native-country\"].values != \"?\")].copy()\n",
    "train_label =train_data[\"native-country\"]\n",
    "\n",
    "test_data = df[(df[\"native-country\"].values == \"?\")].copy()\n",
    "test_label = test_data[\"native-country\"]\n",
    "\n",
    "train_data.drop(columns = [\"native-country\"], inplace = True)\n",
    "test_data.drop(columns = [\"native-country\"], inplace = True)\n",
    "\n",
    "train_data = oneHotCatVars(train_data, train_data.select_dtypes(\"category\").columns)\n",
    "test_data = oneHotCatVars(test_data, test_data.select_dtypes(\"category\").columns)\n",
    "\n",
    "lr = LogisticRegression()\n",
    "lr.fit(train_data, train_label)\n",
    "lr_pred = lr.predict(test_data)\n",
    "\n",
    "clf = tree.DecisionTreeClassifier()\n",
    "clf = clf.fit(train_data, train_label)\n",
    "clf_pred = clf.predict(test_data)\n",
    "\n",
    "rf = RandomForestClassifier()\n",
    "rf.fit(train_data, train_label)\n",
    "rf_pred = rf.predict(test_data)\n",
    "\n",
    "majority_class =df[\"native-country\"].value_counts().index[0]\n",
    "\n",
    "pred_df = pd.DataFrame({\"RFor\": rf_pred, \"DTree\": clf_pred, \"LogReg\": lr_pred})\n",
    "\n",
    "overall_pred = pred_df.apply(lambda x: x.value_counts().index[0] if x.value_counts()[0] > 1\n",
    "                            else majority_class, axis=1)\n",
    "\n",
    "df.loc[(df[\"native-country\"].values == \"?\"), \"native-country\"] = overall_pred.values\n",
    "\n",
    "print(df[\"native-country\"].value_counts())\n",
    "print(df[\"native-country\"].unique())"
   ]
  },
  {
   "cell_type": "markdown",
   "metadata": {},
   "source": [
    "##### After Treating missing values,  in all columns, we will reset the categories."
   ]
  },
  {
   "cell_type": "code",
   "execution_count": 20,
   "metadata": {},
   "outputs": [],
   "source": [
    "df[\"workcalss\"] = df[\"workclass\"].cat.remove_categories(\"?\")\n",
    "df[\"occupation\"] = df[\"workclass\"].cat.remove_categories(\"?\")\n",
    "df[\"native-country\"] = df[\"native-country\"].cat.remove_categories(\"?\")"
   ]
  },
  {
   "cell_type": "markdown",
   "metadata": {},
   "source": [
    "### 1.3 Correlation Matrix"
   ]
  },
  {
   "cell_type": "code",
   "execution_count": 21,
   "metadata": {},
   "outputs": [
    {
     "data": {
      "text/html": [
       "<div>\n",
       "<style scoped>\n",
       "    .dataframe tbody tr th:only-of-type {\n",
       "        vertical-align: middle;\n",
       "    }\n",
       "\n",
       "    .dataframe tbody tr th {\n",
       "        vertical-align: top;\n",
       "    }\n",
       "\n",
       "    .dataframe thead th {\n",
       "        text-align: right;\n",
       "    }\n",
       "</style>\n",
       "<table border=\"1\" class=\"dataframe\">\n",
       "  <thead>\n",
       "    <tr style=\"text-align: right;\">\n",
       "      <th></th>\n",
       "      <th>fnlwgt</th>\n",
       "      <th>educational-num</th>\n",
       "      <th>capital-gain</th>\n",
       "      <th>capital-loss</th>\n",
       "      <th>hours-per-week</th>\n",
       "    </tr>\n",
       "  </thead>\n",
       "  <tbody>\n",
       "    <tr>\n",
       "      <th>fnlwgt</th>\n",
       "      <td>1.000000</td>\n",
       "      <td>-0.038761</td>\n",
       "      <td>-0.003706</td>\n",
       "      <td>-0.004366</td>\n",
       "      <td>-0.013519</td>\n",
       "    </tr>\n",
       "    <tr>\n",
       "      <th>educational-num</th>\n",
       "      <td>-0.038761</td>\n",
       "      <td>1.000000</td>\n",
       "      <td>0.125146</td>\n",
       "      <td>0.080972</td>\n",
       "      <td>0.143689</td>\n",
       "    </tr>\n",
       "    <tr>\n",
       "      <th>capital-gain</th>\n",
       "      <td>-0.003706</td>\n",
       "      <td>0.125146</td>\n",
       "      <td>1.000000</td>\n",
       "      <td>-0.031441</td>\n",
       "      <td>0.082157</td>\n",
       "    </tr>\n",
       "    <tr>\n",
       "      <th>capital-loss</th>\n",
       "      <td>-0.004366</td>\n",
       "      <td>0.080972</td>\n",
       "      <td>-0.031441</td>\n",
       "      <td>1.000000</td>\n",
       "      <td>0.054467</td>\n",
       "    </tr>\n",
       "    <tr>\n",
       "      <th>hours-per-week</th>\n",
       "      <td>-0.013519</td>\n",
       "      <td>0.143689</td>\n",
       "      <td>0.082157</td>\n",
       "      <td>0.054467</td>\n",
       "      <td>1.000000</td>\n",
       "    </tr>\n",
       "  </tbody>\n",
       "</table>\n",
       "</div>"
      ],
      "text/plain": [
       "                   fnlwgt  educational-num  capital-gain  capital-loss  \\\n",
       "fnlwgt           1.000000        -0.038761     -0.003706     -0.004366   \n",
       "educational-num -0.038761         1.000000      0.125146      0.080972   \n",
       "capital-gain    -0.003706         0.125146      1.000000     -0.031441   \n",
       "capital-loss    -0.004366         0.080972     -0.031441      1.000000   \n",
       "hours-per-week  -0.013519         0.143689      0.082157      0.054467   \n",
       "\n",
       "                 hours-per-week  \n",
       "fnlwgt                -0.013519  \n",
       "educational-num        0.143689  \n",
       "capital-gain           0.082157  \n",
       "capital-loss           0.054467  \n",
       "hours-per-week         1.000000  "
      ]
     },
     "execution_count": 21,
     "metadata": {},
     "output_type": "execute_result"
    }
   ],
   "source": [
    "df.corr()"
   ]
  },
  {
   "cell_type": "code",
   "execution_count": 22,
   "metadata": {},
   "outputs": [
    {
     "data": {
      "image/png": "[encoded data removed]",
      "text/plain": [
       "<Figure size 792x432 with 2 Axes>"
      ]
     },
     "metadata": {
      "needs_background": "light"
     },
     "output_type": "display_data"
    }
   ],
   "source": [
    "corrmat = df.corr()\n",
    "top_corr_features=corrmat.index\n",
    "plt.figure(figsize=(11,6))\n",
    "g = sns.heatmap(df[top_corr_features].corr(),annot=True,cmap=\"Blues\")"
   ]
  },
  {
   "cell_type": "code",
   "execution_count": 23,
   "metadata": {},
   "outputs": [
    {
     "data": {
      "text/plain": [
       "[Text(1, 0.5, 'fnlwgt'),\n",
       " Text(1, 1.5, 'capital-loss'),\n",
       " Text(1, 2.5, 'capital-gain'),\n",
       " Text(1, 3.5, 'educational-num'),\n",
       " Text(1, 4.5, 'hours-per-week')]"
      ]
     },
     "execution_count": 23,
     "metadata": {},
     "output_type": "execute_result"
    },
    {
     "data": {
      "image/png": "[encoded data removed]",
      "text/plain": [
       "<Figure size 576x432 with 4 Axes>"
      ]
     },
     "metadata": {
      "needs_background": "light"
     },
     "output_type": "display_data"
    }
   ],
   "source": [
    "corr = df.corr().mul(100).astype(int)\n",
    "g= sns.clustermap(data=corr,annot=True,fmt=\"d\",cmap=\"Blues\",figsize=(8,6))\n",
    "cmap=sns.diverging_palette(h_neg=100,h_pos=150,s=90,as_cmap=True)\n",
    "\n",
    "g.ax_heatmap.set_xticklabels(g.ax_heatmap.get_xmajorticklabels(),fontsize=16)\n",
    "g.ax_heatmap.set_yticklabels(g.ax_heatmap.get_ymajorticklabels(),fontsize=16)"
   ]
  },
  {
   "cell_type": "markdown",
   "metadata": {},
   "source": [
    "#### As we can see through Cluster map no attributes/ columns are highly correlated."
   ]
  },
  {
   "cell_type": "markdown",
   "metadata": {},
   "source": [
    "# 2) EDA"
   ]
  },
  {
   "cell_type": "markdown",
   "metadata": {},
   "source": [
    "##### we are going to create a dictionary in which, all details are available regarding education"
   ]
  },
  {
   "cell_type": "code",
   "execution_count": 24,
   "metadata": {},
   "outputs": [],
   "source": [
    "edu_level = {}\n",
    "for x,y in df[[\"educational-num\",\"education\"]].drop_duplicates().itertuples(index=False):\n",
    "    edu_level[y] = x"
   ]
  },
  {
   "cell_type": "markdown",
   "metadata": {},
   "source": [
    "### 2.1 Education vs Income"
   ]
  },
  {
   "cell_type": "code",
   "execution_count": 25,
   "metadata": {},
   "outputs": [
    {
     "data": {
      "text/plain": [
       "(array([ 0,  1,  2,  3,  4,  5,  6,  7,  8,  9, 10, 11, 12, 13, 14, 15]),\n",
       " <a list of 16 Text major ticklabel objects>)"
      ]
     },
     "execution_count": 25,
     "metadata": {},
     "output_type": "execute_result"
    },
    {
     "data": {
      "image/png": "[encoded data removed]",
      "text/plain": [
       "<Figure size 432x288 with 1 Axes>"
      ]
     },
     "metadata": {
      "needs_background": "light"
     },
     "output_type": "display_data"
    }
   ],
   "source": [
    "\n",
    "sns1=sns.countplot(x=\"education\", data=df, hue=\"target\", palette=\"gist_rainbow_r\")\n",
    "sns1\n",
    "plt.xticks(rotation=70)"
   ]
  },
  {
   "cell_type": "code",
   "execution_count": 26,
   "metadata": {},
   "outputs": [
    {
     "data": {
      "text/markdown": [
       "<span style = 'color:purple' >**We can see from graph the level of education increases, than the proportion of people who earn more than 50K a year is also increases. But Suprisingly people with Prof-School earning more than 50K a year in comparision with who did Doctorate.**</span>"
      ],
      "text/plain": [
       "<IPython.core.display.Markdown object>"
      ]
     },
     "metadata": {},
     "output_type": "display_data"
    },
    {
     "data": {
      "image/png": "[encoded data removed]",
      "text/plain": [
       "<Figure size 720x288 with 1 Axes>"
      ]
     },
     "metadata": {
      "needs_background": "light"
     },
     "output_type": "display_data"
    }
   ],
   "source": [
    "education = round(pd.crosstab(df.education, df.target).div(pd.crosstab(df.education, df.target).apply(sum,1),0),2)\n",
    "\n",
    "education = education.reindex(sorted(edu_level, key=edu_level.get, reverse=False))\n",
    "\n",
    "ax = education.plot(kind= \"bar\",title = \"Distribution of income across the education levels\", figsize=(10,4))\n",
    "\n",
    "ax.set_xlabel(\"Education level\")\n",
    "ax.set_ylabel(\"Proportion of population\")\n",
    "\n",
    "printmd(\"**We can see from graph the level of education increases, than the proportion of people who earn more than 50K a year is also increases. But Suprisingly people with Prof-School earning more than 50K a year in comparision with who did Doctorate.**\")"
   ]
  },
  {
   "cell_type": "markdown",
   "metadata": {},
   "source": [
    "### 2.2 Gender vs Target"
   ]
  },
  {
   "cell_type": "code",
   "execution_count": 27,
   "metadata": {},
   "outputs": [
    {
     "data": {
      "text/markdown": [
       "<span style = 'color:purple' >**After seeing graph we can say, more number of Males earn more than 50K a year as compare to Females**</span>"
      ],
      "text/plain": [
       "<IPython.core.display.Markdown object>"
      ]
     },
     "metadata": {},
     "output_type": "display_data"
    },
    {
     "data": {
      "image/png": "[encoded data removed]",
      "text/plain": [
       "<Figure size 432x288 with 1 Axes>"
      ]
     },
     "metadata": {
      "needs_background": "light"
     },
     "output_type": "display_data"
    }
   ],
   "source": [
    "gender = round(pd.crosstab(df.gender, df.target).div(pd.crosstab(df.gender, df.target).apply(sum,1),0),2)\n",
    "\n",
    "gender.sort_values(by = \">50K\", inplace = True)\n",
    "ax = gender.plot(kind=\"bar\", title= \"Target distribution across gender levels\")\n",
    "\n",
    "ax.set_xlabel(\"Gender Level\")\n",
    "ax.set_ylabel(\"Proportion of population\")\n",
    "printmd(\"**After seeing graph we can say, more number of Males earn more than 50K a year as compare to Females**\")"
   ]
  },
  {
   "cell_type": "code",
   "execution_count": 28,
   "metadata": {},
   "outputs": [
    {
     "data": {
      "text/markdown": [
       "<span style = 'color:purple' >**After seeing above graph, we will take deeper look in this graph for wages gap between male & female           we are going to see the earning by working classs           Below graph shows that in every working class earning for females is lower than the males           NOTED:- This wages gap is per our data only, which is incomplete having missing values and all etc.**</span>"
      ],
      "text/plain": [
       "<IPython.core.display.Markdown object>"
      ]
     },
     "metadata": {},
     "output_type": "display_data"
    },
    {
     "data": {
      "image/png": "[encoded data removed]",
      "text/plain": [
       "<Figure size 720x288 with 1 Axes>"
      ]
     },
     "metadata": {
      "needs_background": "light"
     },
     "output_type": "display_data"
    }
   ],
   "source": [
    "gender_workcalss = round(pd.crosstab(df.workclass, [df.target, df.gender]).div(pd.crosstab(df.workclass,\n",
    "                                                                                       [df.target, df.gender]).apply(sum,1),0),2)\n",
    "gender_workcalss[[(\">50K\", \"Male\"),(\">50K\",\"Female\")]].plot(kind = \"bar\", title = \"Distribution of target across gender for each workclass\",figsize=(10,4), rot =40)\n",
    "\n",
    "ax.set_xlabel(\"Gender level\")\n",
    "ax.set_ylabel(\"Propportion of population\")\n",
    "printmd(\"**After seeing above graph, we will take deeper look in this graph for wages gap between male & female\\\n",
    "           we are going to see the earning by working classs\\\n",
    "           Below graph shows that in every working class earning for females is lower than the males\\\n",
    "           NOTED:- This wages gap is per our data only, which is incomplete having missing values and all etc.**\")"
   ]
  },
  {
   "cell_type": "markdown",
   "metadata": {},
   "source": [
    "### 2.3 Occupation vs Income"
   ]
  },
  {
   "cell_type": "code",
   "execution_count": 29,
   "metadata": {},
   "outputs": [
    {
     "data": {
      "text/markdown": [
       "<span style = 'color:purple' >**Self employed people's earn more than a 50K a year**</span>"
      ],
      "text/plain": [
       "<IPython.core.display.Markdown object>"
      ]
     },
     "metadata": {},
     "output_type": "display_data"
    },
    {
     "data": {
      "image/png": "[encoded data removed]",
      "text/plain": [
       "<Figure size 720x288 with 1 Axes>"
      ]
     },
     "metadata": {
      "needs_background": "light"
     },
     "output_type": "display_data"
    }
   ],
   "source": [
    "occupation = round(pd.crosstab(df.occupation, df.target).div(pd.crosstab(df.occupation, df.target).apply(sum,1),0),2)\n",
    "\n",
    "occupation.sort_values(by = \">50K\", inplace=True)\n",
    "\n",
    "ax= occupation.plot(kind=\"bar\",title= \"Income Distribution across Occupation levels\", figsize=(10,4), rot =40)\n",
    "\n",
    "ax.set_xlabel(\"Occupation level\")\n",
    "ax.set_ylabel(\"Proportion of population\")\n",
    "printmd(\"**Self employed people's earn more than a 50K a year**\")"
   ]
  },
  {
   "cell_type": "markdown",
   "metadata": {},
   "source": [
    "### 2.4 Workclass vs Income"
   ]
  },
  {
   "cell_type": "code",
   "execution_count": 30,
   "metadata": {},
   "outputs": [
    {
     "data": {
      "text/plain": [
       "Text(0, 0.5, 'Proportion of population')"
      ]
     },
     "execution_count": 30,
     "metadata": {},
     "output_type": "execute_result"
    },
    {
     "data": {
      "image/png": "[encoded data removed]",
      "text/plain": [
       "<Figure size 720x288 with 1 Axes>"
      ]
     },
     "metadata": {
      "needs_background": "light"
     },
     "output_type": "display_data"
    }
   ],
   "source": [
    "workclass = round(pd.crosstab(df.workclass, df.target).div(pd.crosstab(df.workclass, df.target).apply(sum,1),0),2)\n",
    "\n",
    "workclass.sort_values(by = \">50K\",inplace= True)\n",
    "\n",
    "ax = workclass.plot(kind=\"bar\",title = \"Income distribution across workclass levels\",figsize=(10,4), rot=40)\n",
    "\n",
    "ax.set_xlabel(\"Workclass Level\")\n",
    "ax.set_ylabel(\"Proportion of population\")"
   ]
  },
  {
   "cell_type": "markdown",
   "metadata": {},
   "source": [
    "### 2.5 Race vs Income"
   ]
  },
  {
   "cell_type": "code",
   "execution_count": 31,
   "metadata": {},
   "outputs": [
    {
     "data": {
      "text/plain": [
       "Text(0, 0.5, 'Proportion o fpopulation')"
      ]
     },
     "execution_count": 31,
     "metadata": {},
     "output_type": "execute_result"
    },
    {
     "data": {
      "image/png": "[encoded data removed]",
      "text/plain": [
       "<Figure size 720x288 with 1 Axes>"
      ]
     },
     "metadata": {
      "needs_background": "light"
     },
     "output_type": "display_data"
    }
   ],
   "source": [
    "race = round(pd.crosstab(df.race, df.target).div(pd.crosstab(df.race, df.target).apply(sum,1),0),2)\n",
    "\n",
    "race.sort_values(by = \">50K\", inplace = True)\n",
    "\n",
    "ax= race.plot(kind=\"bar\", title=\"Income distribution across race levels\", figsize=(10,4), rot=40)\n",
    "\n",
    "ax.set_xlabel(\"Race Level\")\n",
    "ax.set_ylabel(\"Proportion o fpopulation\")\n"
   ]
  },
  {
   "cell_type": "markdown",
   "metadata": {},
   "source": [
    "### 2.6 Native Country"
   ]
  },
  {
   "cell_type": "code",
   "execution_count": 32,
   "metadata": {},
   "outputs": [
    {
     "data": {
      "text/markdown": [
       "<span style = 'color:purple' >**India & France have more porportions of people's who earns more than 50K a year**</span>"
      ],
      "text/plain": [
       "<IPython.core.display.Markdown object>"
      ]
     },
     "metadata": {},
     "output_type": "display_data"
    },
    {
     "data": {
      "image/png": "[encoded data removed]",
      "text/plain": [
       "<Figure size 1440x864 with 1 Axes>"
      ]
     },
     "metadata": {
      "needs_background": "light"
     },
     "output_type": "display_data"
    }
   ],
   "source": [
    "native_country = round(pd.crosstab(df[\"native-country\"], df.target).div(pd.crosstab(df[\"native-country\"], df.target).apply(sum,1),0),2)\n",
    "\n",
    "native_country.sort_values(by = \">50K\", inplace = True)\n",
    "\n",
    "ax = native_country.plot(kind=\"bar\", title = \"Income distribution Country wise\", figsize=(20,12))\n",
    "\n",
    "ax.set_xlabel(\"Native Country\")\n",
    "ax.set_ylabel(\"Proportion o Population\")\n",
    "printmd(\"**India & France have more porportions of people's who earns more than 50K a year**\")"
   ]
  },
  {
   "cell_type": "markdown",
   "metadata": {},
   "source": [
    "### 2.7 Hours per week vs Income"
   ]
  },
  {
   "cell_type": "code",
   "execution_count": 33,
   "metadata": {},
   "outputs": [
    {
     "data": {
      "text/markdown": [
       "<span style = 'color:purple' >**After seeing the graph the higher the proportion of population making more than 50K a year**</span>"
      ],
      "text/plain": [
       "<IPython.core.display.Markdown object>"
      ]
     },
     "metadata": {},
     "output_type": "display_data"
    },
    {
     "data": {
      "image/png": "[encoded data removed]",
      "text/plain": [
       "<Figure size 1440x720 with 1 Axes>"
      ]
     },
     "metadata": {
      "needs_background": "light"
     },
     "output_type": "display_data"
    }
   ],
   "source": [
    "hours_per_week = round(pd.crosstab(df[\"hours-per-week\"],df.target).div(pd.crosstab(df[\"hours-per-week\"], df.target).apply(sum,1),0),2)\n",
    "\n",
    "hours_per_week.sort_values( by = \">50K\", inplace=True)\n",
    "\n",
    "ax = hours_per_week.plot(kind=\"bar\", title = \"Income Distribution across Hours per week\", figsize = (20,10))\n",
    "\n",
    "ax.set_xlabel(\"Hours per week\")\n",
    "ax.set_ylabel(\"Proportion of population\")\n",
    "printmd(\"**After seeing the graph the higher the proportion of population making more than 50K a year**\")"
   ]
  },
  {
   "cell_type": "markdown",
   "metadata": {},
   "source": [
    "### 2.7.(a) Hours Per Week with categories\n",
    "##### we will split into 3  different columns below 40 , 40 to 60, greater than 60 hrs."
   ]
  },
  {
   "cell_type": "code",
   "execution_count": 34,
   "metadata": {},
   "outputs": [
    {
     "data": {
      "text/markdown": [
       "<span style = 'color:purple' >**We can say after seeing graph increasing trend in proportion of population making more than a 50K a year**</span>"
      ],
      "text/plain": [
       "<IPython.core.display.Markdown object>"
      ]
     },
     "metadata": {},
     "output_type": "display_data"
    },
    {
     "data": {
      "image/png": "[encoded data removed]",
      "text/plain": [
       "<Figure size 720x360 with 1 Axes>"
      ]
     },
     "metadata": {
      "needs_background": "light"
     },
     "output_type": "display_data"
    }
   ],
   "source": [
    "df[\"hours_worked_bins\"] = [\"<40\" if i < 40 else \"40-60\" if i <=60\n",
    "                          else \">60\" for i in df[\"hours-per-week\"]]\n",
    "df[\"hours_worked_bins\"] = df[\"hours_worked_bins\"].astype(\"category\")\n",
    "\n",
    "hours_per_week = round(pd.crosstab(df.hours_worked_bins, df.target).div(pd.crosstab(df.hours_worked_bins, df.target).apply(sum,1),0),2)\n",
    "\n",
    "hours_per_week.sort_values(by = \">50K\" ,inplace = True)\n",
    "\n",
    "ax = hours_per_week.plot(kind = \"bar\", title= \"Income distribution across Hour per week\", figsize=(10,5))\n",
    "\n",
    "ax.set_xlabel(\"Hours per week\")\n",
    "ax.set_ylabel(\"Proportion of population\")\n",
    "printmd(\"**We can say after seeing graph increasing trend in proportion of population making more than a 50K a year**\")"
   ]
  },
  {
   "cell_type": "markdown",
   "metadata": {},
   "source": [
    "### 2.7(b) Hours worked across working classes"
   ]
  },
  {
   "cell_type": "code",
   "execution_count": 35,
   "metadata": {},
   "outputs": [
    {
     "data": {
      "text/plain": [
       "Text(0, 0.5, 'proportion of populatoion')"
      ]
     },
     "execution_count": 35,
     "metadata": {},
     "output_type": "execute_result"
    },
    {
     "data": {
      "image/png": "[encoded data removed]",
      "text/plain": [
       "<Figure size 1440x504 with 1 Axes>"
      ]
     },
     "metadata": {
      "needs_background": "light"
     },
     "output_type": "display_data"
    }
   ],
   "source": [
    "for i in df.workclass.unique():\n",
    "    df1= df[df.workclass == i]\n",
    "\n",
    "hours_per_week = round(pd.crosstab(df1[\"hours-per-week\"], df1.target).div(pd.crosstab(df1[\"hours-per-week\"], df1.target).apply(sum,1),0),2)\n",
    "    \n",
    "#hours_per_week.sort_values(by = \">50K\", inplace = True)\n",
    "\n",
    "ax = hours_per_week.plot(kind = \"bar\", title= \"Income distribution across per Hours per week for\" + i, figsize=(20,7), rot =40)\n",
    "\n",
    "ax.set_xlabel(\"Hours per week\")\n",
    "ax.set_ylabel(\"proportion of populatoion\")\n",
    "\n"
   ]
  },
  {
   "cell_type": "markdown",
   "metadata": {},
   "source": [
    "# 3 Data Transformations\n",
    "\n",
    "### 3.1 Feature selection / Dropping unwanted attributes"
   ]
  },
  {
   "cell_type": "code",
   "execution_count": 36,
   "metadata": {},
   "outputs": [
    {
     "data": {
      "text/markdown": [
       "<span style = 'color:purple' >**Educationa & education-num both are same, so we drop some anyone,           same as for hours-per-week we will drop it           fnlwgt we did not relate this ao any other attributes**</span>"
      ],
      "text/plain": [
       "<IPython.core.display.Markdown object>"
      ]
     },
     "metadata": {},
     "output_type": "display_data"
    }
   ],
   "source": [
    "df.drop(columns = [\"education\", \"fnlwgt\",\"hours-per-week\"], inplace=True)\n",
    "printmd(\"**Educationa & education-num both are same, so we drop some anyone,\\\n",
    "           same as for hours-per-week we will drop it\\\n",
    "           fnlwgt we did not relate this ao any other attributes**\")"
   ]
  },
  {
   "cell_type": "markdown",
   "metadata": {},
   "source": [
    "### 3.2 Normalization"
   ]
  },
  {
   "cell_type": "code",
   "execution_count": 37,
   "metadata": {},
   "outputs": [
    {
     "data": {
      "text/plain": [
       "<matplotlib.axes._subplots.AxesSubplot at 0x195b6b010a0>"
      ]
     },
     "execution_count": 37,
     "metadata": {},
     "output_type": "execute_result"
    },
    {
     "data": {
      "image/png": "[encoded data removed]",
      "text/plain": [
       "<Figure size 720x864 with 1 Axes>"
      ]
     },
     "metadata": {
      "needs_background": "light"
     },
     "output_type": "display_data"
    }
   ],
   "source": [
    "df.select_dtypes(exclude = \"category\").plot(kind =\"box\", figsize=(10,12))"
   ]
  },
  {
   "cell_type": "markdown",
   "metadata": {},
   "source": [
    "# 4. Models"
   ]
  },
  {
   "cell_type": "markdown",
   "metadata": {},
   "source": [
    "### 4.1 Data Preparation"
   ]
  },
  {
   "cell_type": "markdown",
   "metadata": {},
   "source": [
    "##### we are using one hot coding to represent all the categorical features in dataset"
   ]
  },
  {
   "cell_type": "code",
   "execution_count": 38,
   "metadata": {},
   "outputs": [],
   "source": [
    "df_data = df.drop(columns = [\"target\"])\n",
    "df_label = df.target\n",
    "\n",
    "df_cat_onehot = pd.get_dummies(df_data.select_dtypes(\"category\"))\n",
    "df_non_cat = df_data.select_dtypes(exclude = \"category\")\n",
    "\n",
    "df_data_onehot = pd.concat([df_non_cat, df_cat_onehot], axis=1, join = \"inner\")"
   ]
  },
  {
   "cell_type": "markdown",
   "metadata": {},
   "source": [
    "##### Spliting  the dataset"
   ]
  },
  {
   "cell_type": "code",
   "execution_count": 39,
   "metadata": {},
   "outputs": [
    {
     "data": {
      "text/markdown": [
       "<span style = 'color:purple' >**Spliting the Dataset**</span>"
      ],
      "text/plain": [
       "<IPython.core.display.Markdown object>"
      ]
     },
     "metadata": {},
     "output_type": "display_data"
    }
   ],
   "source": [
    "from sklearn.model_selection import train_test_split \n",
    "printmd(\"**Spliting the Dataset**\")\n",
    "\n",
    "train_data, test_data, train_label, test_label = train_test_split(df_data_onehot, df_label,test_size = 0.17, random_state = 19)"
   ]
  },
  {
   "cell_type": "markdown",
   "metadata": {},
   "source": [
    "##### After normalization fitting the data on both train & test"
   ]
  },
  {
   "cell_type": "code",
   "execution_count": 40,
   "metadata": {},
   "outputs": [
    {
     "data": {
      "text/markdown": [
       "<span style = 'color:purple' >**We are doing Normalization  & after that, applying on transform data/ fitting on train & test data**</span>"
      ],
      "text/plain": [
       "<IPython.core.display.Markdown object>"
      ]
     },
     "metadata": {},
     "output_type": "display_data"
    }
   ],
   "source": [
    "from sklearn.preprocessing import StandardScaler\n",
    "scaler = StandardScaler()\n",
    "\n",
    "scaler.fit(train_data)\n",
    "train_data = scaler.transform(train_data)\n",
    "\n",
    "test_data = scaler.transform(test_data)\n",
    "\n",
    "printmd(\"**We are doing Normalization  & after that, applying on transform data/ fitting on train & test data**\")"
   ]
  },
  {
   "cell_type": "markdown",
   "metadata": {},
   "source": [
    "### 4.1.1.) Model building"
   ]
  },
  {
   "cell_type": "code",
   "execution_count": 41,
   "metadata": {},
   "outputs": [],
   "source": [
    "def model_eval (actual, pred):\n",
    "    \n",
    "    confusion = pd.crosstab(actual, pred, rownames=[\"Atcual\"], colnames=[\"Predicted\"])\n",
    "    \n",
    "    TP = confusion.loc[\">50K\",\">50K\"]\n",
    "    TN = confusion.loc[\"<=50K\",\"<=50K\"]\n",
    "    FP = confusion.loc[\"<=50K\",\">50K\"]\n",
    "    FN = confusion.loc[\">50K\",\"<=50K\"]\n",
    "   \n",
    "    \n",
    "    accuracy = ((TP+TN))/(TP+FN+FP+TN)\n",
    "    precision = (TP)/(TP+FP)\n",
    "    recall = (TP)/(TP+FN)\n",
    "    f_measure = (2*recall*precision)/(recall+precision)\n",
    "    sensitivity = TP / (TP +FN)\n",
    "    specificity = TN / (TN + FP)\n",
    "    error_rate = 1-accuracy\n",
    "    \n",
    "    out = {}\n",
    "    out[\"accuracy\"] = accuracy\n",
    "    out[\"precision\"] = precision\n",
    "    out[\"recall\"] = recall\n",
    "    out[\"f_measure\"] = f_measure\n",
    "    out[\"sensitivity\"] = sensitivity\n",
    "    out[\"specificity\"] = specificity\n",
    "    out[\"error_rate\"] = error_rate\n",
    "    \n",
    "    return out"
   ]
  },
  {
   "cell_type": "markdown",
   "metadata": {},
   "source": [
    "### 4.2. Model Development"
   ]
  },
  {
   "cell_type": "markdown",
   "metadata": {},
   "source": [
    "### 4.2.(a) Decision Tree\n",
    "##### in this i'm experimenting with spliting criteia"
   ]
  },
  {
   "cell_type": "code",
   "execution_count": 42,
   "metadata": {},
   "outputs": [
    {
     "name": "stdout",
     "output_type": "stream",
     "text": [
      "Decision Tree using Gini Index :85.27 percent.\n",
      "Decision Tree using Entropy : 85.30 percent.\n"
     ]
    },
    {
     "data": {
      "text/html": [
       "<div>\n",
       "<style scoped>\n",
       "    .dataframe tbody tr th:only-of-type {\n",
       "        vertical-align: middle;\n",
       "    }\n",
       "\n",
       "    .dataframe tbody tr th {\n",
       "        vertical-align: top;\n",
       "    }\n",
       "\n",
       "    .dataframe thead th {\n",
       "        text-align: right;\n",
       "    }\n",
       "</style>\n",
       "<table border=\"1\" class=\"dataframe\">\n",
       "  <thead>\n",
       "    <tr style=\"text-align: right;\">\n",
       "      <th></th>\n",
       "      <th>accuracy</th>\n",
       "      <th>precision</th>\n",
       "      <th>recall</th>\n",
       "      <th>f_measure</th>\n",
       "      <th>sensitivity</th>\n",
       "      <th>specificity</th>\n",
       "      <th>error_rate</th>\n",
       "    </tr>\n",
       "  </thead>\n",
       "  <tbody>\n",
       "    <tr>\n",
       "      <th>DTree_Entropy</th>\n",
       "      <td>0.8530</td>\n",
       "      <td>0.7806</td>\n",
       "      <td>0.5302</td>\n",
       "      <td>0.6315</td>\n",
       "      <td>0.5302</td>\n",
       "      <td>0.9536</td>\n",
       "      <td>0.1470</td>\n",
       "    </tr>\n",
       "    <tr>\n",
       "      <th>DTree_Gini</th>\n",
       "      <td>0.8527</td>\n",
       "      <td>0.7753</td>\n",
       "      <td>0.5352</td>\n",
       "      <td>0.6333</td>\n",
       "      <td>0.5352</td>\n",
       "      <td>0.9517</td>\n",
       "      <td>0.1473</td>\n",
       "    </tr>\n",
       "  </tbody>\n",
       "</table>\n",
       "</div>"
      ],
      "text/plain": [
       "               accuracy  precision  recall  f_measure  sensitivity  \\\n",
       "DTree_Entropy    0.8530     0.7806  0.5302     0.6315       0.5302   \n",
       "DTree_Gini       0.8527     0.7753  0.5352     0.6333       0.5352   \n",
       "\n",
       "               specificity  error_rate  \n",
       "DTree_Entropy       0.9536      0.1470  \n",
       "DTree_Gini          0.9517      0.1473  "
      ]
     },
     "execution_count": 42,
     "metadata": {},
     "output_type": "execute_result"
    }
   ],
   "source": [
    "# Gini\n",
    "clf_gini = tree.DecisionTreeClassifier(criterion = \"gini\", min_samples_split= 0.05, min_samples_leaf = 0.001, max_features = None)\n",
    "clf_gini = clf_gini.fit(train_data, train_label)\n",
    "clf_gini_pred = clf_gini.predict(test_data)\n",
    "DTree_Gini = model_eval(test_label, clf_gini_pred)\n",
    "print(\"Decision Tree using Gini Index :%.2f percent.\"% (round(DTree_Gini[\"accuracy\"]*100,2)))\n",
    "\n",
    "# Entropy\n",
    "clf_entropy = tree.DecisionTreeClassifier(criterion = \"entropy\", min_samples_split = 0.05, min_samples_leaf = 0.001)\n",
    "clf_entropy = clf_entropy.fit(train_data, train_label)\n",
    "clf_entropy_pred =clf_entropy.predict(test_data)\n",
    "DTree_Entropy = model_eval(test_label, clf_entropy_pred)\n",
    "print(\"Decision Tree using Entropy : %.2f percent.\" % (round(DTree_Entropy[\"accuracy\"]*100,2)))\n",
    "\n",
    "ovl_dtree = round(pd.DataFrame([DTree_Entropy,DTree_Gini], index = [\"DTree_Entropy\", \"DTree_Gini\"]),4)\n",
    "ovl_dtree"
   ]
  },
  {
   "cell_type": "markdown",
   "metadata": {},
   "source": [
    "### 4.2.(b) Support Vector Machine\n",
    "##### we will search for various kernels with different criteria"
   ]
  },
  {
   "cell_type": "code",
   "execution_count": 43,
   "metadata": {},
   "outputs": [
    {
     "name": "stdout",
     "output_type": "stream",
     "text": [
      "SVM using rbf kernel : 84.62 percent.\n",
      "SVM using linearr kernel : 85.03 percent.\n",
      "SVM using poly kernel : 80.47 percent.\n",
      "SVM using sigmoid kernel : 83.57 percent.\n"
     ]
    },
    {
     "data": {
      "text/html": [
       "<div>\n",
       "<style scoped>\n",
       "    .dataframe tbody tr th:only-of-type {\n",
       "        vertical-align: middle;\n",
       "    }\n",
       "\n",
       "    .dataframe tbody tr th {\n",
       "        vertical-align: top;\n",
       "    }\n",
       "\n",
       "    .dataframe thead th {\n",
       "        text-align: right;\n",
       "    }\n",
       "</style>\n",
       "<table border=\"1\" class=\"dataframe\">\n",
       "  <thead>\n",
       "    <tr style=\"text-align: right;\">\n",
       "      <th></th>\n",
       "      <th>accuracy</th>\n",
       "      <th>precision</th>\n",
       "      <th>recall</th>\n",
       "      <th>f_measure</th>\n",
       "      <th>sensitivity</th>\n",
       "      <th>specificity</th>\n",
       "      <th>error_rate</th>\n",
       "    </tr>\n",
       "  </thead>\n",
       "  <tbody>\n",
       "    <tr>\n",
       "      <th>SVM_rbf</th>\n",
       "      <td>0.8462</td>\n",
       "      <td>0.7367</td>\n",
       "      <td>0.5489</td>\n",
       "      <td>0.6291</td>\n",
       "      <td>0.5489</td>\n",
       "      <td>0.9389</td>\n",
       "      <td>0.1538</td>\n",
       "    </tr>\n",
       "    <tr>\n",
       "      <th>SVM_linear</th>\n",
       "      <td>0.8503</td>\n",
       "      <td>0.7373</td>\n",
       "      <td>0.5748</td>\n",
       "      <td>0.6460</td>\n",
       "      <td>0.5748</td>\n",
       "      <td>0.9362</td>\n",
       "      <td>0.1497</td>\n",
       "    </tr>\n",
       "    <tr>\n",
       "      <th>SVM_poly</th>\n",
       "      <td>0.8047</td>\n",
       "      <td>0.7102</td>\n",
       "      <td>0.3006</td>\n",
       "      <td>0.4224</td>\n",
       "      <td>0.3006</td>\n",
       "      <td>0.9618</td>\n",
       "      <td>0.1953</td>\n",
       "    </tr>\n",
       "    <tr>\n",
       "      <th>SVM_sigmoid</th>\n",
       "      <td>0.8357</td>\n",
       "      <td>0.6928</td>\n",
       "      <td>0.5545</td>\n",
       "      <td>0.6160</td>\n",
       "      <td>0.5545</td>\n",
       "      <td>0.9234</td>\n",
       "      <td>0.1643</td>\n",
       "    </tr>\n",
       "  </tbody>\n",
       "</table>\n",
       "</div>"
      ],
      "text/plain": [
       "             accuracy  precision  recall  f_measure  sensitivity  specificity  \\\n",
       "SVM_rbf        0.8462     0.7367  0.5489     0.6291       0.5489       0.9389   \n",
       "SVM_linear     0.8503     0.7373  0.5748     0.6460       0.5748       0.9362   \n",
       "SVM_poly       0.8047     0.7102  0.3006     0.4224       0.3006       0.9618   \n",
       "SVM_sigmoid    0.8357     0.6928  0.5545     0.6160       0.5545       0.9234   \n",
       "\n",
       "             error_rate  \n",
       "SVM_rbf          0.1538  \n",
       "SVM_linear       0.1497  \n",
       "SVM_poly         0.1953  \n",
       "SVM_sigmoid      0.1643  "
      ]
     },
     "metadata": {},
     "output_type": "display_data"
    }
   ],
   "source": [
    "from sklearn import svm\n",
    "from sklearn.svm import SVC\n",
    "from sklearn import metrics\n",
    "\n",
    "\n",
    "\n",
    "#rbf kernal\n",
    "svm_clf_rbf = svm.SVC(kernel = \"rbf\", C = 1, tol =1e-3)\n",
    "svm_clf_rbf.fit(train_data, train_label)\n",
    "svm_clf_rbf_pred = svm_clf_rbf.predict(test_data)\n",
    "SVM_rbf = model_eval(test_label, svm_clf_rbf_pred)\n",
    "print(\"SVM using rbf kernel : %.2f percent.\" % (round(SVM_rbf[\"accuracy\"]*100,2)))\n",
    "\n",
    "# Linear kernel\n",
    "svm_clf_linear = svm.SVC(kernel = \"linear\")\n",
    "svm_clf_linear.fit(train_data, train_label)\n",
    "svm_clf_linear_pred = svm_clf_linear.predict(test_data)\n",
    "SVM_linear = model_eval(test_label, svm_clf_linear_pred)\n",
    "print(\"SVM using linearr kernel : %.2f percent.\" % (round(SVM_linear[\"accuracy\"]*100,2)))\n",
    "\n",
    "# Poly kernel\n",
    "svm_clf_poly = svm.SVC(kernel = \"poly\")\n",
    "svm_clf_poly.fit(train_data, train_label)\n",
    "svm_clf_poly_pred = svm_clf_poly.predict(test_data)\n",
    "SVM_poly = model_eval(test_label, svm_clf_poly_pred)\n",
    "print(\"SVM using poly kernel : %.2f percent.\" % (round(SVM_poly[\"accuracy\"]*100,2)))\n",
    "\n",
    "# Sigmoid Kernel\n",
    "svm_clf_sigmoid = svm.SVC(kernel = \"sigmoid\")\n",
    "svm_clf_sigmoid.fit(train_data, train_label)\n",
    "svm_clf_sigmoid_pred = svm_clf_sigmoid.predict(test_data)\n",
    "SVM_sigmoid = model_eval(test_label, svm_clf_sigmoid_pred)\n",
    "print(\"SVM using sigmoid kernel : %.2f percent.\" % (round(SVM_sigmoid[\"accuracy\"]*100,2)))\n",
    "\n",
    "\n",
    "#overall evaluation\n",
    "ovl_svm = round(pd.DataFrame([SVM_rbf, SVM_linear, SVM_poly, SVM_sigmoid], index = [\"SVM_rbf\",\"SVM_linear\",\"SVM_poly\",\"SVM_sigmoid\"]),4)\n",
    "display(ovl_svm)"
   ]
  },
  {
   "cell_type": "markdown",
   "metadata": {},
   "source": [
    "### 4.3. Ensemble Models"
   ]
  },
  {
   "cell_type": "markdown",
   "metadata": {},
   "source": [
    "### 4.3.1. Random Forest\n",
    "##### we will see Gini, Entropy differently"
   ]
  },
  {
   "cell_type": "code",
   "execution_count": 44,
   "metadata": {},
   "outputs": [],
   "source": [
    "from sklearn.ensemble import RandomForestClassifier\n",
    "from sklearn.model_selection import cross_val_score\n",
    "from sklearn.ensemble import AdaBoostClassifier\n",
    "from sklearn.linear_model import LogisticRegression\n",
    "from sklearn.metrics import roc_curve, auc\n",
    "from sklearn.preprocessing import label_binarize"
   ]
  },
  {
   "cell_type": "code",
   "execution_count": 45,
   "metadata": {},
   "outputs": [
    {
     "name": "stdout",
     "output_type": "stream",
     "text": [
      "Random Forest using Gini Index : 82.23 percent.\n",
      "Random Forest using Entropy: 82.23 percent.\n"
     ]
    },
    {
     "data": {
      "text/html": [
       "<div>\n",
       "<style scoped>\n",
       "    .dataframe tbody tr th:only-of-type {\n",
       "        vertical-align: middle;\n",
       "    }\n",
       "\n",
       "    .dataframe tbody tr th {\n",
       "        vertical-align: top;\n",
       "    }\n",
       "\n",
       "    .dataframe thead th {\n",
       "        text-align: right;\n",
       "    }\n",
       "</style>\n",
       "<table border=\"1\" class=\"dataframe\">\n",
       "  <thead>\n",
       "    <tr style=\"text-align: right;\">\n",
       "      <th></th>\n",
       "      <th>accuracy</th>\n",
       "      <th>precision</th>\n",
       "      <th>recall</th>\n",
       "      <th>f_measure</th>\n",
       "      <th>sensitivity</th>\n",
       "      <th>specificity</th>\n",
       "      <th>error_rate</th>\n",
       "    </tr>\n",
       "  </thead>\n",
       "  <tbody>\n",
       "    <tr>\n",
       "      <th>RF_gini</th>\n",
       "      <td>0.8223</td>\n",
       "      <td>0.6741</td>\n",
       "      <td>0.4876</td>\n",
       "      <td>0.5659</td>\n",
       "      <td>0.4876</td>\n",
       "      <td>0.9266</td>\n",
       "      <td>0.1777</td>\n",
       "    </tr>\n",
       "    <tr>\n",
       "      <th>RF_entropy</th>\n",
       "      <td>0.8223</td>\n",
       "      <td>0.6741</td>\n",
       "      <td>0.4876</td>\n",
       "      <td>0.5659</td>\n",
       "      <td>0.4876</td>\n",
       "      <td>0.9266</td>\n",
       "      <td>0.1777</td>\n",
       "    </tr>\n",
       "  </tbody>\n",
       "</table>\n",
       "</div>"
      ],
      "text/plain": [
       "            accuracy  precision  recall  f_measure  sensitivity  specificity  \\\n",
       "RF_gini       0.8223     0.6741  0.4876     0.5659       0.4876       0.9266   \n",
       "RF_entropy    0.8223     0.6741  0.4876     0.5659       0.4876       0.9266   \n",
       "\n",
       "            error_rate  \n",
       "RF_gini         0.1777  \n",
       "RF_entropy      0.1777  "
      ]
     },
     "execution_count": 45,
     "metadata": {},
     "output_type": "execute_result"
    }
   ],
   "source": [
    "# Gini\n",
    "rf_gini = RandomForestClassifier(n_estimators=50,criterion = \"gini\", max_features =None, min_samples_split =0.1, min_samples_leaf =0.1)\n",
    "rf_gini.fit(train_data, train_label)\n",
    "rf_gini_pred = rf_gini.predict(test_data)\n",
    "RF_gini = model_eval(test_label, rf_gini_pred)\n",
    "print(\"Random Forest using Gini Index : %.2f percent.\" % (round(RF_gini[\"accuracy\"]*100,4)))\n",
    "\n",
    "# Entropy\n",
    "rf_entropy = RandomForestClassifier(n_estimators=50,criterion = \"entropy\", max_features= None, min_samples_split = 0.1, min_samples_leaf = 0.1)\n",
    "rf_entropy.fit(train_data, train_label)\n",
    "rf_entropy_pred = rf_entropy.predict(test_data)\n",
    "RF_entropy = model_eval(test_label, rf_entropy_pred)\n",
    "print(\"Random Forest using Entropy: %.2f percent.\" % (round(RF_entropy[\"accuracy\"]*100,4)))\n",
    "\n",
    "ovl_rf = round(pd.DataFrame([RF_gini, RF_entropy], index = [\"RF_gini\", \"RF_entropy\"]),4 )\n",
    "ovl_rf"
   ]
  },
  {
   "cell_type": "markdown",
   "metadata": {},
   "source": [
    "### 4.3.2. ADAboost"
   ]
  },
  {
   "cell_type": "code",
   "execution_count": 46,
   "metadata": {},
   "outputs": [
    {
     "data": {
      "text/markdown": [
       "<span style = 'color:purple' >Adaboost : 85.98 percent.</span>"
      ],
      "text/plain": [
       "<IPython.core.display.Markdown object>"
      ]
     },
     "metadata": {},
     "output_type": "display_data"
    },
    {
     "data": {
      "text/html": [
       "<div>\n",
       "<style scoped>\n",
       "    .dataframe tbody tr th:only-of-type {\n",
       "        vertical-align: middle;\n",
       "    }\n",
       "\n",
       "    .dataframe tbody tr th {\n",
       "        vertical-align: top;\n",
       "    }\n",
       "\n",
       "    .dataframe thead th {\n",
       "        text-align: right;\n",
       "    }\n",
       "</style>\n",
       "<table border=\"1\" class=\"dataframe\">\n",
       "  <thead>\n",
       "    <tr style=\"text-align: right;\">\n",
       "      <th></th>\n",
       "      <th>accuracy</th>\n",
       "      <th>precision</th>\n",
       "      <th>recall</th>\n",
       "      <th>f_measure</th>\n",
       "      <th>sensitivity</th>\n",
       "      <th>specificity</th>\n",
       "      <th>error_rate</th>\n",
       "    </tr>\n",
       "  </thead>\n",
       "  <tbody>\n",
       "    <tr>\n",
       "      <th>adaboost</th>\n",
       "      <td>0.8598</td>\n",
       "      <td>0.7929</td>\n",
       "      <td>0.555</td>\n",
       "      <td>0.653</td>\n",
       "      <td>0.555</td>\n",
       "      <td>0.9548</td>\n",
       "      <td>0.1402</td>\n",
       "    </tr>\n",
       "  </tbody>\n",
       "</table>\n",
       "</div>"
      ],
      "text/plain": [
       "          accuracy  precision  recall  f_measure  sensitivity  specificity  \\\n",
       "adaboost    0.8598     0.7929   0.555      0.653        0.555       0.9548   \n",
       "\n",
       "          error_rate  \n",
       "adaboost      0.1402  "
      ]
     },
     "execution_count": 46,
     "metadata": {},
     "output_type": "execute_result"
    }
   ],
   "source": [
    "ada = AdaBoostClassifier(n_estimators=99)\n",
    "ada.fit(train_data, train_label)\n",
    "ada_pred = ada.predict(test_data)\n",
    "adaboost = model_eval(test_label,ada_pred)\n",
    "printmd(\"Adaboost : %.2f percent.\" % (round(adaboost[\"accuracy\"]*100,2)))\n",
    "\n",
    "ovl_ada= round(pd.DataFrame([adaboost], index=[\"adaboost\"]),4)\n",
    "ovl_ada"
   ]
  },
  {
   "cell_type": "markdown",
   "metadata": {},
   "source": [
    "### 4.3.3. Logistic Regression"
   ]
  },
  {
   "cell_type": "code",
   "execution_count": 47,
   "metadata": {},
   "outputs": [
    {
     "name": "stdout",
     "output_type": "stream",
     "text": [
      "Logistic Regression : 84.98 percent.\n"
     ]
    },
    {
     "data": {
      "text/html": [
       "<div>\n",
       "<style scoped>\n",
       "    .dataframe tbody tr th:only-of-type {\n",
       "        vertical-align: middle;\n",
       "    }\n",
       "\n",
       "    .dataframe tbody tr th {\n",
       "        vertical-align: top;\n",
       "    }\n",
       "\n",
       "    .dataframe thead th {\n",
       "        text-align: right;\n",
       "    }\n",
       "</style>\n",
       "<table border=\"1\" class=\"dataframe\">\n",
       "  <thead>\n",
       "    <tr style=\"text-align: right;\">\n",
       "      <th></th>\n",
       "      <th>accuracy</th>\n",
       "      <th>precision</th>\n",
       "      <th>recall</th>\n",
       "      <th>f_measure</th>\n",
       "      <th>sensitivity</th>\n",
       "      <th>specificity</th>\n",
       "      <th>error_rate</th>\n",
       "    </tr>\n",
       "  </thead>\n",
       "  <tbody>\n",
       "    <tr>\n",
       "      <th>logistic_reg</th>\n",
       "      <td>0.8498</td>\n",
       "      <td>0.7266</td>\n",
       "      <td>0.59</td>\n",
       "      <td>0.6512</td>\n",
       "      <td>0.59</td>\n",
       "      <td>0.9308</td>\n",
       "      <td>0.1502</td>\n",
       "    </tr>\n",
       "  </tbody>\n",
       "</table>\n",
       "</div>"
      ],
      "text/plain": [
       "              accuracy  precision  recall  f_measure  sensitivity  \\\n",
       "logistic_reg    0.8498     0.7266    0.59     0.6512         0.59   \n",
       "\n",
       "              specificity  error_rate  \n",
       "logistic_reg       0.9308      0.1502  "
      ]
     },
     "execution_count": 47,
     "metadata": {},
     "output_type": "execute_result"
    }
   ],
   "source": [
    "log_reg = LogisticRegression(penalty = \"l2\", dual=False, tol = 1e-4, fit_intercept =True,\n",
    "                       solver = \"liblinear\")\n",
    "log_reg.fit(train_data, train_label)\n",
    "log_reg_pred = log_reg.predict(test_data)\n",
    "logistic_reg = model_eval(test_label, log_reg_pred)\n",
    "\n",
    "print(\"Logistic Regression : %.2f percent.\" % (round(logistic_reg[\"accuracy\"]*100,3)))\n",
    "\n",
    "ovl_logreg = round(pd.DataFrame([logistic_reg], index = [\"logistic_reg\"]),4)\n",
    "ovl_logreg"
   ]
  },
  {
   "cell_type": "markdown",
   "metadata": {},
   "source": [
    "### 4.3.4. K Nearest Neighbours"
   ]
  },
  {
   "cell_type": "code",
   "execution_count": 48,
   "metadata": {},
   "outputs": [
    {
     "data": {
      "text/html": [
       "<div>\n",
       "<style scoped>\n",
       "    .dataframe tbody tr th:only-of-type {\n",
       "        vertical-align: middle;\n",
       "    }\n",
       "\n",
       "    .dataframe tbody tr th {\n",
       "        vertical-align: top;\n",
       "    }\n",
       "\n",
       "    .dataframe thead th {\n",
       "        text-align: right;\n",
       "    }\n",
       "</style>\n",
       "<table border=\"1\" class=\"dataframe\">\n",
       "  <thead>\n",
       "    <tr style=\"text-align: right;\">\n",
       "      <th></th>\n",
       "      <th>accuracy</th>\n",
       "      <th>precision</th>\n",
       "      <th>recall</th>\n",
       "      <th>f_measure</th>\n",
       "      <th>sensitivity</th>\n",
       "      <th>specificity</th>\n",
       "      <th>error_rate</th>\n",
       "      <th>k</th>\n",
       "    </tr>\n",
       "  </thead>\n",
       "  <tbody>\n",
       "    <tr>\n",
       "      <th>0</th>\n",
       "      <td>0.7870</td>\n",
       "      <td>0.5537</td>\n",
       "      <td>0.5332</td>\n",
       "      <td>0.5432</td>\n",
       "      <td>0.5332</td>\n",
       "      <td>0.8661</td>\n",
       "      <td>0.2130</td>\n",
       "      <td>1</td>\n",
       "    </tr>\n",
       "    <tr>\n",
       "      <th>1</th>\n",
       "      <td>0.8036</td>\n",
       "      <td>0.5995</td>\n",
       "      <td>0.5220</td>\n",
       "      <td>0.5581</td>\n",
       "      <td>0.5220</td>\n",
       "      <td>0.8913</td>\n",
       "      <td>0.1964</td>\n",
       "      <td>3</td>\n",
       "    </tr>\n",
       "    <tr>\n",
       "      <th>2</th>\n",
       "      <td>0.8078</td>\n",
       "      <td>0.6143</td>\n",
       "      <td>0.5134</td>\n",
       "      <td>0.5594</td>\n",
       "      <td>0.5134</td>\n",
       "      <td>0.8995</td>\n",
       "      <td>0.1922</td>\n",
       "      <td>5</td>\n",
       "    </tr>\n",
       "    <tr>\n",
       "      <th>3</th>\n",
       "      <td>0.8048</td>\n",
       "      <td>0.6110</td>\n",
       "      <td>0.4911</td>\n",
       "      <td>0.5445</td>\n",
       "      <td>0.4911</td>\n",
       "      <td>0.9025</td>\n",
       "      <td>0.1952</td>\n",
       "      <td>7</td>\n",
       "    </tr>\n",
       "    <tr>\n",
       "      <th>4</th>\n",
       "      <td>0.8072</td>\n",
       "      <td>0.6220</td>\n",
       "      <td>0.4805</td>\n",
       "      <td>0.5422</td>\n",
       "      <td>0.4805</td>\n",
       "      <td>0.9090</td>\n",
       "      <td>0.1928</td>\n",
       "      <td>9</td>\n",
       "    </tr>\n",
       "    <tr>\n",
       "      <th>5</th>\n",
       "      <td>0.8088</td>\n",
       "      <td>0.6269</td>\n",
       "      <td>0.4820</td>\n",
       "      <td>0.5450</td>\n",
       "      <td>0.4820</td>\n",
       "      <td>0.9106</td>\n",
       "      <td>0.1912</td>\n",
       "      <td>11</td>\n",
       "    </tr>\n",
       "    <tr>\n",
       "      <th>6</th>\n",
       "      <td>0.8043</td>\n",
       "      <td>0.6184</td>\n",
       "      <td>0.4607</td>\n",
       "      <td>0.5280</td>\n",
       "      <td>0.4607</td>\n",
       "      <td>0.9114</td>\n",
       "      <td>0.1957</td>\n",
       "      <td>13</td>\n",
       "    </tr>\n",
       "    <tr>\n",
       "      <th>7</th>\n",
       "      <td>0.8072</td>\n",
       "      <td>0.6306</td>\n",
       "      <td>0.4551</td>\n",
       "      <td>0.5287</td>\n",
       "      <td>0.4551</td>\n",
       "      <td>0.9169</td>\n",
       "      <td>0.1928</td>\n",
       "      <td>15</td>\n",
       "    </tr>\n",
       "    <tr>\n",
       "      <th>8</th>\n",
       "      <td>0.8089</td>\n",
       "      <td>0.6403</td>\n",
       "      <td>0.4465</td>\n",
       "      <td>0.5261</td>\n",
       "      <td>0.4465</td>\n",
       "      <td>0.9218</td>\n",
       "      <td>0.1911</td>\n",
       "      <td>17</td>\n",
       "    </tr>\n",
       "    <tr>\n",
       "      <th>9</th>\n",
       "      <td>0.8080</td>\n",
       "      <td>0.6466</td>\n",
       "      <td>0.4237</td>\n",
       "      <td>0.5119</td>\n",
       "      <td>0.4237</td>\n",
       "      <td>0.9278</td>\n",
       "      <td>0.1920</td>\n",
       "      <td>19</td>\n",
       "    </tr>\n",
       "    <tr>\n",
       "      <th>10</th>\n",
       "      <td>0.8066</td>\n",
       "      <td>0.6453</td>\n",
       "      <td>0.4131</td>\n",
       "      <td>0.5037</td>\n",
       "      <td>0.4131</td>\n",
       "      <td>0.9292</td>\n",
       "      <td>0.1934</td>\n",
       "      <td>21</td>\n",
       "    </tr>\n",
       "    <tr>\n",
       "      <th>11</th>\n",
       "      <td>0.8071</td>\n",
       "      <td>0.6517</td>\n",
       "      <td>0.4040</td>\n",
       "      <td>0.4987</td>\n",
       "      <td>0.4040</td>\n",
       "      <td>0.9327</td>\n",
       "      <td>0.1929</td>\n",
       "      <td>23</td>\n",
       "    </tr>\n",
       "    <tr>\n",
       "      <th>12</th>\n",
       "      <td>0.8094</td>\n",
       "      <td>0.6593</td>\n",
       "      <td>0.4090</td>\n",
       "      <td>0.5048</td>\n",
       "      <td>0.4090</td>\n",
       "      <td>0.9341</td>\n",
       "      <td>0.1906</td>\n",
       "      <td>25</td>\n",
       "    </tr>\n",
       "    <tr>\n",
       "      <th>13</th>\n",
       "      <td>0.8089</td>\n",
       "      <td>0.6608</td>\n",
       "      <td>0.4019</td>\n",
       "      <td>0.4998</td>\n",
       "      <td>0.4019</td>\n",
       "      <td>0.9357</td>\n",
       "      <td>0.1911</td>\n",
       "      <td>27</td>\n",
       "    </tr>\n",
       "    <tr>\n",
       "      <th>14</th>\n",
       "      <td>0.8095</td>\n",
       "      <td>0.6655</td>\n",
       "      <td>0.3984</td>\n",
       "      <td>0.4984</td>\n",
       "      <td>0.3984</td>\n",
       "      <td>0.9376</td>\n",
       "      <td>0.1905</td>\n",
       "      <td>29</td>\n",
       "    </tr>\n",
       "    <tr>\n",
       "      <th>15</th>\n",
       "      <td>0.8086</td>\n",
       "      <td>0.6619</td>\n",
       "      <td>0.3979</td>\n",
       "      <td>0.4970</td>\n",
       "      <td>0.3979</td>\n",
       "      <td>0.9367</td>\n",
       "      <td>0.1914</td>\n",
       "      <td>31</td>\n",
       "    </tr>\n",
       "    <tr>\n",
       "      <th>16</th>\n",
       "      <td>0.8109</td>\n",
       "      <td>0.6760</td>\n",
       "      <td>0.3923</td>\n",
       "      <td>0.4965</td>\n",
       "      <td>0.3923</td>\n",
       "      <td>0.9414</td>\n",
       "      <td>0.1891</td>\n",
       "      <td>33</td>\n",
       "    </tr>\n",
       "    <tr>\n",
       "      <th>17</th>\n",
       "      <td>0.8111</td>\n",
       "      <td>0.6820</td>\n",
       "      <td>0.3837</td>\n",
       "      <td>0.4911</td>\n",
       "      <td>0.3837</td>\n",
       "      <td>0.9442</td>\n",
       "      <td>0.1889</td>\n",
       "      <td>35</td>\n",
       "    </tr>\n",
       "    <tr>\n",
       "      <th>18</th>\n",
       "      <td>0.8113</td>\n",
       "      <td>0.6849</td>\n",
       "      <td>0.3811</td>\n",
       "      <td>0.4897</td>\n",
       "      <td>0.3811</td>\n",
       "      <td>0.9453</td>\n",
       "      <td>0.1887</td>\n",
       "      <td>37</td>\n",
       "    </tr>\n",
       "    <tr>\n",
       "      <th>19</th>\n",
       "      <td>0.8107</td>\n",
       "      <td>0.6821</td>\n",
       "      <td>0.3806</td>\n",
       "      <td>0.4886</td>\n",
       "      <td>0.3806</td>\n",
       "      <td>0.9447</td>\n",
       "      <td>0.1893</td>\n",
       "      <td>39</td>\n",
       "    </tr>\n",
       "    <tr>\n",
       "      <th>20</th>\n",
       "      <td>0.8114</td>\n",
       "      <td>0.6918</td>\n",
       "      <td>0.3720</td>\n",
       "      <td>0.4838</td>\n",
       "      <td>0.3720</td>\n",
       "      <td>0.9483</td>\n",
       "      <td>0.1886</td>\n",
       "      <td>41</td>\n",
       "    </tr>\n",
       "    <tr>\n",
       "      <th>21</th>\n",
       "      <td>0.8120</td>\n",
       "      <td>0.6914</td>\n",
       "      <td>0.3771</td>\n",
       "      <td>0.4880</td>\n",
       "      <td>0.3771</td>\n",
       "      <td>0.9476</td>\n",
       "      <td>0.1880</td>\n",
       "      <td>43</td>\n",
       "    </tr>\n",
       "    <tr>\n",
       "      <th>22</th>\n",
       "      <td>0.8111</td>\n",
       "      <td>0.6877</td>\n",
       "      <td>0.3751</td>\n",
       "      <td>0.4854</td>\n",
       "      <td>0.3751</td>\n",
       "      <td>0.9469</td>\n",
       "      <td>0.1889</td>\n",
       "      <td>45</td>\n",
       "    </tr>\n",
       "    <tr>\n",
       "      <th>23</th>\n",
       "      <td>0.8113</td>\n",
       "      <td>0.6890</td>\n",
       "      <td>0.3751</td>\n",
       "      <td>0.4857</td>\n",
       "      <td>0.3751</td>\n",
       "      <td>0.9472</td>\n",
       "      <td>0.1887</td>\n",
       "      <td>47</td>\n",
       "    </tr>\n",
       "    <tr>\n",
       "      <th>24</th>\n",
       "      <td>0.8106</td>\n",
       "      <td>0.6828</td>\n",
       "      <td>0.3786</td>\n",
       "      <td>0.4871</td>\n",
       "      <td>0.3786</td>\n",
       "      <td>0.9452</td>\n",
       "      <td>0.1894</td>\n",
       "      <td>49</td>\n",
       "    </tr>\n",
       "  </tbody>\n",
       "</table>\n",
       "</div>"
      ],
      "text/plain": [
       "    accuracy  precision  recall  f_measure  sensitivity  specificity  \\\n",
       "0     0.7870     0.5537  0.5332     0.5432       0.5332       0.8661   \n",
       "1     0.8036     0.5995  0.5220     0.5581       0.5220       0.8913   \n",
       "2     0.8078     0.6143  0.5134     0.5594       0.5134       0.8995   \n",
       "3     0.8048     0.6110  0.4911     0.5445       0.4911       0.9025   \n",
       "4     0.8072     0.6220  0.4805     0.5422       0.4805       0.9090   \n",
       "5     0.8088     0.6269  0.4820     0.5450       0.4820       0.9106   \n",
       "6     0.8043     0.6184  0.4607     0.5280       0.4607       0.9114   \n",
       "7     0.8072     0.6306  0.4551     0.5287       0.4551       0.9169   \n",
       "8     0.8089     0.6403  0.4465     0.5261       0.4465       0.9218   \n",
       "9     0.8080     0.6466  0.4237     0.5119       0.4237       0.9278   \n",
       "10    0.8066     0.6453  0.4131     0.5037       0.4131       0.9292   \n",
       "11    0.8071     0.6517  0.4040     0.4987       0.4040       0.9327   \n",
       "12    0.8094     0.6593  0.4090     0.5048       0.4090       0.9341   \n",
       "13    0.8089     0.6608  0.4019     0.4998       0.4019       0.9357   \n",
       "14    0.8095     0.6655  0.3984     0.4984       0.3984       0.9376   \n",
       "15    0.8086     0.6619  0.3979     0.4970       0.3979       0.9367   \n",
       "16    0.8109     0.6760  0.3923     0.4965       0.3923       0.9414   \n",
       "17    0.8111     0.6820  0.3837     0.4911       0.3837       0.9442   \n",
       "18    0.8113     0.6849  0.3811     0.4897       0.3811       0.9453   \n",
       "19    0.8107     0.6821  0.3806     0.4886       0.3806       0.9447   \n",
       "20    0.8114     0.6918  0.3720     0.4838       0.3720       0.9483   \n",
       "21    0.8120     0.6914  0.3771     0.4880       0.3771       0.9476   \n",
       "22    0.8111     0.6877  0.3751     0.4854       0.3751       0.9469   \n",
       "23    0.8113     0.6890  0.3751     0.4857       0.3751       0.9472   \n",
       "24    0.8106     0.6828  0.3786     0.4871       0.3786       0.9452   \n",
       "\n",
       "    error_rate   k  \n",
       "0       0.2130   1  \n",
       "1       0.1964   3  \n",
       "2       0.1922   5  \n",
       "3       0.1952   7  \n",
       "4       0.1928   9  \n",
       "5       0.1912  11  \n",
       "6       0.1957  13  \n",
       "7       0.1928  15  \n",
       "8       0.1911  17  \n",
       "9       0.1920  19  \n",
       "10      0.1934  21  \n",
       "11      0.1929  23  \n",
       "12      0.1906  25  \n",
       "13      0.1911  27  \n",
       "14      0.1905  29  \n",
       "15      0.1914  31  \n",
       "16      0.1891  33  \n",
       "17      0.1889  35  \n",
       "18      0.1887  37  \n",
       "19      0.1893  39  \n",
       "20      0.1886  41  \n",
       "21      0.1880  43  \n",
       "22      0.1889  45  \n",
       "23      0.1887  47  \n",
       "24      0.1894  49  "
      ]
     },
     "metadata": {},
     "output_type": "display_data"
    }
   ],
   "source": [
    "from sklearn.neighbors import KNeighborsClassifier\n",
    "knn_outs = []\n",
    "for i in range(1,50,2):\n",
    "    knn = KNeighborsClassifier(n_neighbors=i)\n",
    "    knn.fit(train_data, train_label)\n",
    "    knn_pred = knn.predict(test_data)\n",
    "    knn_perf = model_eval(test_label, knn_pred)\n",
    "    knn_perf[\"k\"] = i\n",
    "    knn_outs.append(knn_perf)\n",
    "\n",
    "ovl_knn = round(pd.DataFrame(knn_outs),4)\n",
    "display(ovl_knn)"
   ]
  },
  {
   "cell_type": "markdown",
   "metadata": {},
   "source": [
    "### Optimizing KNN- search for k-value via GridSearchCV"
   ]
  },
  {
   "cell_type": "raw",
   "metadata": {},
   "source": [
    "# Scaling the data again \n",
    "from sklearn.preprocessing import MinMaxScaler\n",
    "scaler=MinMaxScaler(feature_range=(0,50))\n",
    "\n",
    "# fitting & applying on both train & test\n",
    "x_train_knn_scaled = scaler.fit_transform(train_data)\n",
    "x_train_knn = pd.DataFrame(x_train_knn_scaled)\n",
    "\n",
    "x_test_knn_scaled = scaler.fit_transform(test_data)\n",
    "x_test_knn = pd.DataFrame(x_test_knn_scaled)\n",
    "\n",
    "\n",
    "# Searching best parameter for knn by using GridSearchCV\n",
    "from sklearn.model_selection import GridSearchCV as gsv\n",
    "\n",
    "parameters = {\"n_neighbors\":range(0,50)}\n",
    "knn_gsv = gsv(knn,parameters,cv=100)\n",
    "knn_gsv.fit(x_train_knn,train_label)\n",
    "\n",
    "print(\"Best k-value is:-\",model.best_params_[\"n_neighbors\"])\n",
    "\n",
    "\n",
    "# fitting those best parameter for Knn in knn model\n",
    "\n",
    "knn_cv_outs=[]\n",
    "model_cv=KNeighborsClassifier(n_neighbors=model.best_params_[\"n_neighbors\"]).fit(x_train_knn,train_label)\n",
    "model_cv_pred = model_cv.predict(x_test_knn)\n",
    "model_cv_perf=model_eval(x_test_knn,model_cv_pred)\n",
    "model_cv_perf=model.best_params_[\"n_neighbors\"]\n",
    "knn_cv_outs.append(model_cv_perf)\n",
    "\n",
    "ovl_knn_cv = round(pd.DataFrame(knn_cv_outs),4)\n",
    "ovl_knn_cv"
   ]
  },
  {
   "cell_type": "markdown",
   "metadata": {},
   "source": [
    "### From above code we will find the best parameters but it will take really long time, so i stop this cell & move forward, On comparision of all models."
   ]
  },
  {
   "cell_type": "markdown",
   "metadata": {},
   "source": [
    "# 5 Model Evaluation"
   ]
  },
  {
   "cell_type": "markdown",
   "metadata": {},
   "source": [
    "### 5.1. Overall Performance Statistics"
   ]
  },
  {
   "cell_type": "code",
   "execution_count": 49,
   "metadata": {},
   "outputs": [
    {
     "data": {
      "text/markdown": [
       "<span style = 'color:purple' >**Combing all models performances**</span>"
      ],
      "text/plain": [
       "<IPython.core.display.Markdown object>"
      ]
     },
     "metadata": {},
     "output_type": "display_data"
    },
    {
     "data": {
      "text/html": [
       "<div>\n",
       "<style scoped>\n",
       "    .dataframe tbody tr th:only-of-type {\n",
       "        vertical-align: middle;\n",
       "    }\n",
       "\n",
       "    .dataframe tbody tr th {\n",
       "        vertical-align: top;\n",
       "    }\n",
       "\n",
       "    .dataframe thead th {\n",
       "        text-align: right;\n",
       "    }\n",
       "</style>\n",
       "<table border=\"1\" class=\"dataframe\">\n",
       "  <thead>\n",
       "    <tr style=\"text-align: right;\">\n",
       "      <th></th>\n",
       "      <th>accuracy</th>\n",
       "      <th>precision</th>\n",
       "      <th>recall</th>\n",
       "      <th>f_measure</th>\n",
       "      <th>sensitivity</th>\n",
       "      <th>specificity</th>\n",
       "      <th>error_rate</th>\n",
       "      <th>k</th>\n",
       "    </tr>\n",
       "  </thead>\n",
       "  <tbody>\n",
       "    <tr>\n",
       "      <th>adaboost</th>\n",
       "      <td>0.8598</td>\n",
       "      <td>0.7929</td>\n",
       "      <td>0.5550</td>\n",
       "      <td>0.6530</td>\n",
       "      <td>0.5550</td>\n",
       "      <td>0.9548</td>\n",
       "      <td>0.1402</td>\n",
       "      <td>NaN</td>\n",
       "    </tr>\n",
       "    <tr>\n",
       "      <th>logistic_reg</th>\n",
       "      <td>0.8498</td>\n",
       "      <td>0.7266</td>\n",
       "      <td>0.5900</td>\n",
       "      <td>0.6512</td>\n",
       "      <td>0.5900</td>\n",
       "      <td>0.9308</td>\n",
       "      <td>0.1502</td>\n",
       "      <td>NaN</td>\n",
       "    </tr>\n",
       "    <tr>\n",
       "      <th>SVM_linear</th>\n",
       "      <td>0.8503</td>\n",
       "      <td>0.7373</td>\n",
       "      <td>0.5748</td>\n",
       "      <td>0.6460</td>\n",
       "      <td>0.5748</td>\n",
       "      <td>0.9362</td>\n",
       "      <td>0.1497</td>\n",
       "      <td>NaN</td>\n",
       "    </tr>\n",
       "    <tr>\n",
       "      <th>DTree_Gini</th>\n",
       "      <td>0.8527</td>\n",
       "      <td>0.7753</td>\n",
       "      <td>0.5352</td>\n",
       "      <td>0.6333</td>\n",
       "      <td>0.5352</td>\n",
       "      <td>0.9517</td>\n",
       "      <td>0.1473</td>\n",
       "      <td>NaN</td>\n",
       "    </tr>\n",
       "    <tr>\n",
       "      <th>DTree_Entropy</th>\n",
       "      <td>0.8530</td>\n",
       "      <td>0.7806</td>\n",
       "      <td>0.5302</td>\n",
       "      <td>0.6315</td>\n",
       "      <td>0.5302</td>\n",
       "      <td>0.9536</td>\n",
       "      <td>0.1470</td>\n",
       "      <td>NaN</td>\n",
       "    </tr>\n",
       "    <tr>\n",
       "      <th>SVM_rbf</th>\n",
       "      <td>0.8462</td>\n",
       "      <td>0.7367</td>\n",
       "      <td>0.5489</td>\n",
       "      <td>0.6291</td>\n",
       "      <td>0.5489</td>\n",
       "      <td>0.9389</td>\n",
       "      <td>0.1538</td>\n",
       "      <td>NaN</td>\n",
       "    </tr>\n",
       "    <tr>\n",
       "      <th>SVM_sigmoid</th>\n",
       "      <td>0.8357</td>\n",
       "      <td>0.6928</td>\n",
       "      <td>0.5545</td>\n",
       "      <td>0.6160</td>\n",
       "      <td>0.5545</td>\n",
       "      <td>0.9234</td>\n",
       "      <td>0.1643</td>\n",
       "      <td>NaN</td>\n",
       "    </tr>\n",
       "    <tr>\n",
       "      <th>RF_gini</th>\n",
       "      <td>0.8223</td>\n",
       "      <td>0.6741</td>\n",
       "      <td>0.4876</td>\n",
       "      <td>0.5659</td>\n",
       "      <td>0.4876</td>\n",
       "      <td>0.9266</td>\n",
       "      <td>0.1777</td>\n",
       "      <td>NaN</td>\n",
       "    </tr>\n",
       "    <tr>\n",
       "      <th>RF_entropy</th>\n",
       "      <td>0.8223</td>\n",
       "      <td>0.6741</td>\n",
       "      <td>0.4876</td>\n",
       "      <td>0.5659</td>\n",
       "      <td>0.4876</td>\n",
       "      <td>0.9266</td>\n",
       "      <td>0.1777</td>\n",
       "      <td>NaN</td>\n",
       "    </tr>\n",
       "    <tr>\n",
       "      <th>2</th>\n",
       "      <td>0.8078</td>\n",
       "      <td>0.6143</td>\n",
       "      <td>0.5134</td>\n",
       "      <td>0.5594</td>\n",
       "      <td>0.5134</td>\n",
       "      <td>0.8995</td>\n",
       "      <td>0.1922</td>\n",
       "      <td>5.0</td>\n",
       "    </tr>\n",
       "    <tr>\n",
       "      <th>1</th>\n",
       "      <td>0.8036</td>\n",
       "      <td>0.5995</td>\n",
       "      <td>0.5220</td>\n",
       "      <td>0.5581</td>\n",
       "      <td>0.5220</td>\n",
       "      <td>0.8913</td>\n",
       "      <td>0.1964</td>\n",
       "      <td>3.0</td>\n",
       "    </tr>\n",
       "    <tr>\n",
       "      <th>5</th>\n",
       "      <td>0.8088</td>\n",
       "      <td>0.6269</td>\n",
       "      <td>0.4820</td>\n",
       "      <td>0.5450</td>\n",
       "      <td>0.4820</td>\n",
       "      <td>0.9106</td>\n",
       "      <td>0.1912</td>\n",
       "      <td>11.0</td>\n",
       "    </tr>\n",
       "    <tr>\n",
       "      <th>3</th>\n",
       "      <td>0.8048</td>\n",
       "      <td>0.6110</td>\n",
       "      <td>0.4911</td>\n",
       "      <td>0.5445</td>\n",
       "      <td>0.4911</td>\n",
       "      <td>0.9025</td>\n",
       "      <td>0.1952</td>\n",
       "      <td>7.0</td>\n",
       "    </tr>\n",
       "    <tr>\n",
       "      <th>0</th>\n",
       "      <td>0.7870</td>\n",
       "      <td>0.5537</td>\n",
       "      <td>0.5332</td>\n",
       "      <td>0.5432</td>\n",
       "      <td>0.5332</td>\n",
       "      <td>0.8661</td>\n",
       "      <td>0.2130</td>\n",
       "      <td>1.0</td>\n",
       "    </tr>\n",
       "    <tr>\n",
       "      <th>4</th>\n",
       "      <td>0.8072</td>\n",
       "      <td>0.6220</td>\n",
       "      <td>0.4805</td>\n",
       "      <td>0.5422</td>\n",
       "      <td>0.4805</td>\n",
       "      <td>0.9090</td>\n",
       "      <td>0.1928</td>\n",
       "      <td>9.0</td>\n",
       "    </tr>\n",
       "    <tr>\n",
       "      <th>7</th>\n",
       "      <td>0.8072</td>\n",
       "      <td>0.6306</td>\n",
       "      <td>0.4551</td>\n",
       "      <td>0.5287</td>\n",
       "      <td>0.4551</td>\n",
       "      <td>0.9169</td>\n",
       "      <td>0.1928</td>\n",
       "      <td>15.0</td>\n",
       "    </tr>\n",
       "    <tr>\n",
       "      <th>6</th>\n",
       "      <td>0.8043</td>\n",
       "      <td>0.6184</td>\n",
       "      <td>0.4607</td>\n",
       "      <td>0.5280</td>\n",
       "      <td>0.4607</td>\n",
       "      <td>0.9114</td>\n",
       "      <td>0.1957</td>\n",
       "      <td>13.0</td>\n",
       "    </tr>\n",
       "    <tr>\n",
       "      <th>8</th>\n",
       "      <td>0.8089</td>\n",
       "      <td>0.6403</td>\n",
       "      <td>0.4465</td>\n",
       "      <td>0.5261</td>\n",
       "      <td>0.4465</td>\n",
       "      <td>0.9218</td>\n",
       "      <td>0.1911</td>\n",
       "      <td>17.0</td>\n",
       "    </tr>\n",
       "    <tr>\n",
       "      <th>9</th>\n",
       "      <td>0.8080</td>\n",
       "      <td>0.6466</td>\n",
       "      <td>0.4237</td>\n",
       "      <td>0.5119</td>\n",
       "      <td>0.4237</td>\n",
       "      <td>0.9278</td>\n",
       "      <td>0.1920</td>\n",
       "      <td>19.0</td>\n",
       "    </tr>\n",
       "    <tr>\n",
       "      <th>12</th>\n",
       "      <td>0.8094</td>\n",
       "      <td>0.6593</td>\n",
       "      <td>0.4090</td>\n",
       "      <td>0.5048</td>\n",
       "      <td>0.4090</td>\n",
       "      <td>0.9341</td>\n",
       "      <td>0.1906</td>\n",
       "      <td>25.0</td>\n",
       "    </tr>\n",
       "    <tr>\n",
       "      <th>10</th>\n",
       "      <td>0.8066</td>\n",
       "      <td>0.6453</td>\n",
       "      <td>0.4131</td>\n",
       "      <td>0.5037</td>\n",
       "      <td>0.4131</td>\n",
       "      <td>0.9292</td>\n",
       "      <td>0.1934</td>\n",
       "      <td>21.0</td>\n",
       "    </tr>\n",
       "    <tr>\n",
       "      <th>13</th>\n",
       "      <td>0.8089</td>\n",
       "      <td>0.6608</td>\n",
       "      <td>0.4019</td>\n",
       "      <td>0.4998</td>\n",
       "      <td>0.4019</td>\n",
       "      <td>0.9357</td>\n",
       "      <td>0.1911</td>\n",
       "      <td>27.0</td>\n",
       "    </tr>\n",
       "    <tr>\n",
       "      <th>11</th>\n",
       "      <td>0.8071</td>\n",
       "      <td>0.6517</td>\n",
       "      <td>0.4040</td>\n",
       "      <td>0.4987</td>\n",
       "      <td>0.4040</td>\n",
       "      <td>0.9327</td>\n",
       "      <td>0.1929</td>\n",
       "      <td>23.0</td>\n",
       "    </tr>\n",
       "    <tr>\n",
       "      <th>14</th>\n",
       "      <td>0.8095</td>\n",
       "      <td>0.6655</td>\n",
       "      <td>0.3984</td>\n",
       "      <td>0.4984</td>\n",
       "      <td>0.3984</td>\n",
       "      <td>0.9376</td>\n",
       "      <td>0.1905</td>\n",
       "      <td>29.0</td>\n",
       "    </tr>\n",
       "    <tr>\n",
       "      <th>15</th>\n",
       "      <td>0.8086</td>\n",
       "      <td>0.6619</td>\n",
       "      <td>0.3979</td>\n",
       "      <td>0.4970</td>\n",
       "      <td>0.3979</td>\n",
       "      <td>0.9367</td>\n",
       "      <td>0.1914</td>\n",
       "      <td>31.0</td>\n",
       "    </tr>\n",
       "    <tr>\n",
       "      <th>16</th>\n",
       "      <td>0.8109</td>\n",
       "      <td>0.6760</td>\n",
       "      <td>0.3923</td>\n",
       "      <td>0.4965</td>\n",
       "      <td>0.3923</td>\n",
       "      <td>0.9414</td>\n",
       "      <td>0.1891</td>\n",
       "      <td>33.0</td>\n",
       "    </tr>\n",
       "    <tr>\n",
       "      <th>17</th>\n",
       "      <td>0.8111</td>\n",
       "      <td>0.6820</td>\n",
       "      <td>0.3837</td>\n",
       "      <td>0.4911</td>\n",
       "      <td>0.3837</td>\n",
       "      <td>0.9442</td>\n",
       "      <td>0.1889</td>\n",
       "      <td>35.0</td>\n",
       "    </tr>\n",
       "    <tr>\n",
       "      <th>18</th>\n",
       "      <td>0.8113</td>\n",
       "      <td>0.6849</td>\n",
       "      <td>0.3811</td>\n",
       "      <td>0.4897</td>\n",
       "      <td>0.3811</td>\n",
       "      <td>0.9453</td>\n",
       "      <td>0.1887</td>\n",
       "      <td>37.0</td>\n",
       "    </tr>\n",
       "    <tr>\n",
       "      <th>19</th>\n",
       "      <td>0.8107</td>\n",
       "      <td>0.6821</td>\n",
       "      <td>0.3806</td>\n",
       "      <td>0.4886</td>\n",
       "      <td>0.3806</td>\n",
       "      <td>0.9447</td>\n",
       "      <td>0.1893</td>\n",
       "      <td>39.0</td>\n",
       "    </tr>\n",
       "    <tr>\n",
       "      <th>21</th>\n",
       "      <td>0.8120</td>\n",
       "      <td>0.6914</td>\n",
       "      <td>0.3771</td>\n",
       "      <td>0.4880</td>\n",
       "      <td>0.3771</td>\n",
       "      <td>0.9476</td>\n",
       "      <td>0.1880</td>\n",
       "      <td>43.0</td>\n",
       "    </tr>\n",
       "    <tr>\n",
       "      <th>24</th>\n",
       "      <td>0.8106</td>\n",
       "      <td>0.6828</td>\n",
       "      <td>0.3786</td>\n",
       "      <td>0.4871</td>\n",
       "      <td>0.3786</td>\n",
       "      <td>0.9452</td>\n",
       "      <td>0.1894</td>\n",
       "      <td>49.0</td>\n",
       "    </tr>\n",
       "    <tr>\n",
       "      <th>23</th>\n",
       "      <td>0.8113</td>\n",
       "      <td>0.6890</td>\n",
       "      <td>0.3751</td>\n",
       "      <td>0.4857</td>\n",
       "      <td>0.3751</td>\n",
       "      <td>0.9472</td>\n",
       "      <td>0.1887</td>\n",
       "      <td>47.0</td>\n",
       "    </tr>\n",
       "    <tr>\n",
       "      <th>22</th>\n",
       "      <td>0.8111</td>\n",
       "      <td>0.6877</td>\n",
       "      <td>0.3751</td>\n",
       "      <td>0.4854</td>\n",
       "      <td>0.3751</td>\n",
       "      <td>0.9469</td>\n",
       "      <td>0.1889</td>\n",
       "      <td>45.0</td>\n",
       "    </tr>\n",
       "    <tr>\n",
       "      <th>20</th>\n",
       "      <td>0.8114</td>\n",
       "      <td>0.6918</td>\n",
       "      <td>0.3720</td>\n",
       "      <td>0.4838</td>\n",
       "      <td>0.3720</td>\n",
       "      <td>0.9483</td>\n",
       "      <td>0.1886</td>\n",
       "      <td>41.0</td>\n",
       "    </tr>\n",
       "    <tr>\n",
       "      <th>SVM_poly</th>\n",
       "      <td>0.8047</td>\n",
       "      <td>0.7102</td>\n",
       "      <td>0.3006</td>\n",
       "      <td>0.4224</td>\n",
       "      <td>0.3006</td>\n",
       "      <td>0.9618</td>\n",
       "      <td>0.1953</td>\n",
       "      <td>NaN</td>\n",
       "    </tr>\n",
       "  </tbody>\n",
       "</table>\n",
       "</div>"
      ],
      "text/plain": [
       "               accuracy  precision  recall  f_measure  sensitivity  \\\n",
       "adaboost         0.8598     0.7929  0.5550     0.6530       0.5550   \n",
       "logistic_reg     0.8498     0.7266  0.5900     0.6512       0.5900   \n",
       "SVM_linear       0.8503     0.7373  0.5748     0.6460       0.5748   \n",
       "DTree_Gini       0.8527     0.7753  0.5352     0.6333       0.5352   \n",
       "DTree_Entropy    0.8530     0.7806  0.5302     0.6315       0.5302   \n",
       "SVM_rbf          0.8462     0.7367  0.5489     0.6291       0.5489   \n",
       "SVM_sigmoid      0.8357     0.6928  0.5545     0.6160       0.5545   \n",
       "RF_gini          0.8223     0.6741  0.4876     0.5659       0.4876   \n",
       "RF_entropy       0.8223     0.6741  0.4876     0.5659       0.4876   \n",
       "2                0.8078     0.6143  0.5134     0.5594       0.5134   \n",
       "1                0.8036     0.5995  0.5220     0.5581       0.5220   \n",
       "5                0.8088     0.6269  0.4820     0.5450       0.4820   \n",
       "3                0.8048     0.6110  0.4911     0.5445       0.4911   \n",
       "0                0.7870     0.5537  0.5332     0.5432       0.5332   \n",
       "4                0.8072     0.6220  0.4805     0.5422       0.4805   \n",
       "7                0.8072     0.6306  0.4551     0.5287       0.4551   \n",
       "6                0.8043     0.6184  0.4607     0.5280       0.4607   \n",
       "8                0.8089     0.6403  0.4465     0.5261       0.4465   \n",
       "9                0.8080     0.6466  0.4237     0.5119       0.4237   \n",
       "12               0.8094     0.6593  0.4090     0.5048       0.4090   \n",
       "10               0.8066     0.6453  0.4131     0.5037       0.4131   \n",
       "13               0.8089     0.6608  0.4019     0.4998       0.4019   \n",
       "11               0.8071     0.6517  0.4040     0.4987       0.4040   \n",
       "14               0.8095     0.6655  0.3984     0.4984       0.3984   \n",
       "15               0.8086     0.6619  0.3979     0.4970       0.3979   \n",
       "16               0.8109     0.6760  0.3923     0.4965       0.3923   \n",
       "17               0.8111     0.6820  0.3837     0.4911       0.3837   \n",
       "18               0.8113     0.6849  0.3811     0.4897       0.3811   \n",
       "19               0.8107     0.6821  0.3806     0.4886       0.3806   \n",
       "21               0.8120     0.6914  0.3771     0.4880       0.3771   \n",
       "24               0.8106     0.6828  0.3786     0.4871       0.3786   \n",
       "23               0.8113     0.6890  0.3751     0.4857       0.3751   \n",
       "22               0.8111     0.6877  0.3751     0.4854       0.3751   \n",
       "20               0.8114     0.6918  0.3720     0.4838       0.3720   \n",
       "SVM_poly         0.8047     0.7102  0.3006     0.4224       0.3006   \n",
       "\n",
       "               specificity  error_rate     k  \n",
       "adaboost            0.9548      0.1402   NaN  \n",
       "logistic_reg        0.9308      0.1502   NaN  \n",
       "SVM_linear          0.9362      0.1497   NaN  \n",
       "DTree_Gini          0.9517      0.1473   NaN  \n",
       "DTree_Entropy       0.9536      0.1470   NaN  \n",
       "SVM_rbf             0.9389      0.1538   NaN  \n",
       "SVM_sigmoid         0.9234      0.1643   NaN  \n",
       "RF_gini             0.9266      0.1777   NaN  \n",
       "RF_entropy          0.9266      0.1777   NaN  \n",
       "2                   0.8995      0.1922   5.0  \n",
       "1                   0.8913      0.1964   3.0  \n",
       "5                   0.9106      0.1912  11.0  \n",
       "3                   0.9025      0.1952   7.0  \n",
       "0                   0.8661      0.2130   1.0  \n",
       "4                   0.9090      0.1928   9.0  \n",
       "7                   0.9169      0.1928  15.0  \n",
       "6                   0.9114      0.1957  13.0  \n",
       "8                   0.9218      0.1911  17.0  \n",
       "9                   0.9278      0.1920  19.0  \n",
       "12                  0.9341      0.1906  25.0  \n",
       "10                  0.9292      0.1934  21.0  \n",
       "13                  0.9357      0.1911  27.0  \n",
       "11                  0.9327      0.1929  23.0  \n",
       "14                  0.9376      0.1905  29.0  \n",
       "15                  0.9367      0.1914  31.0  \n",
       "16                  0.9414      0.1891  33.0  \n",
       "17                  0.9442      0.1889  35.0  \n",
       "18                  0.9453      0.1887  37.0  \n",
       "19                  0.9447      0.1893  39.0  \n",
       "21                  0.9476      0.1880  43.0  \n",
       "24                  0.9452      0.1894  49.0  \n",
       "23                  0.9472      0.1887  47.0  \n",
       "22                  0.9469      0.1889  45.0  \n",
       "20                  0.9483      0.1886  41.0  \n",
       "SVM_poly            0.9618      0.1953   NaN  "
      ]
     },
     "execution_count": 49,
     "metadata": {},
     "output_type": "execute_result"
    }
   ],
   "source": [
    "overall_eval = pd.concat([ovl_dtree, ovl_rf, ovl_svm,ovl_ada, ovl_logreg,ovl_knn], axis=0)\n",
    "\n",
    "overall_eval.sort_values(by = [\"f_measure\", \"accuracy\"], ascending =False, inplace = True)\n",
    "printmd(\"**Combing all models performances**\")\n",
    "overall_eval"
   ]
  },
  {
   "cell_type": "markdown",
   "metadata": {},
   "source": [
    "### 5.2) Roc Curve"
   ]
  },
  {
   "cell_type": "code",
   "execution_count": 50,
   "metadata": {},
   "outputs": [],
   "source": [
    "def generateRoc(test_data,test_label, classifiers, pred_labels, plot_labels, limiter):\n",
    "    color = [\"tab:blue\", \"tab:orange\", \"tab:green\",\"tab:red\", \"tab:purple\", \"tab:brown\",\"tab:pink\",\"tab:gray\",\"tab:olive\",\"tab:cyan\"]\n",
    "    y_test = label_binarize(test_label,classes=[\"<=50K\",\">50K\"])\n",
    "    plt.figure()\n",
    "    \n",
    "    for i in range(len(classifiers)):\n",
    "        \n",
    "        if plot_labels[i] not in limiter:\n",
    "            continue\n",
    "        \n",
    "        y_score = classifiers[i].predict_proba(test_data)\n",
    "        pos_class_index = list(np.unique(pred_labels[i])).index(\">50K\")\n",
    "        \n",
    "        fpr, tpr, thres = metrics.roc_curve(y_test.ravel(),y_score[:,pos_class_index],pos_label=1)\n",
    "        \n",
    "        lw=2\n",
    "        \n",
    "        plt.plot(fpr,tpr,color=color[ i % len(color)],lw=lw,label=plot_labels[i])\n",
    "        \n",
    "        plt.plot([0,1],[0,1],color=\"navy\", lw=lw,linestyle=\"--\")\n",
    "        plt.xlim([0.0, 1.0])\n",
    "        plt.ylim([0.0,1.05])\n",
    "        plt.xlabel(\"False Positive Rate\")\n",
    "        plt.ylabel(\"True Positive Rate\")\n",
    "        plt.title(\"Receiver operating characteristic (ROC)\")\n",
    "        plt.legend(loc=\"lower right\")"
   ]
  },
  {
   "cell_type": "code",
   "execution_count": 51,
   "metadata": {},
   "outputs": [
    {
     "data": {
      "application/javascript": [
       "/* Put everything inside the global mpl namespace */\n",
       "window.mpl = {};\n",
       "\n",
       "\n",
       "mpl.get_websocket_type = function() {\n",
       "    if (typeof(WebSocket) !== 'undefined') {\n",
       "        return WebSocket;\n",
       "    } else if (typeof(MozWebSocket) !== 'undefined') {\n",
       "        return MozWebSocket;\n",
       "    } else {\n",
       "        alert('Your browser does not have WebSocket support. ' +\n",
       "              'Please try Chrome, Safari or Firefox ≥ 6. ' +\n",
       "              'Firefox 4 and 5 are also supported but you ' +\n",
       "              'have to enable WebSockets in about:config.');\n",
       "    };\n",
       "}\n",
       "\n",
       "mpl.figure = function(figure_id, websocket, ondownload, parent_element) {\n",
       "    this.id = figure_id;\n",
       "\n",
       "    this.ws = websocket;\n",
       "\n",
       "    this.supports_binary = (this.ws.binaryType != undefined);\n",
       "\n",
       "    if (!this.supports_binary) {\n",
       "        var warnings = document.getElementById(\"mpl-warnings\");\n",
       "        if (warnings) {\n",
       "            warnings.style.display = 'block';\n",
       "            warnings.textContent = (\n",
       "                \"This browser does not support binary websocket messages. \" +\n",
       "                    \"Performance may be slow.\");\n",
       "        }\n",
       "    }\n",
       "\n",
       "    this.imageObj = new Image();\n",
       "\n",
       "    this.context = undefined;\n",
       "    this.message = undefined;\n",
       "    this.canvas = undefined;\n",
       "    this.rubberband_canvas = undefined;\n",
       "    this.rubberband_context = undefined;\n",
       "    this.format_dropdown = undefined;\n",
       "\n",
       "    this.image_mode = 'full';\n",
       "\n",
       "    this.root = $('<div/>');\n",
       "    this._root_extra_style(this.root)\n",
       "    this.root.attr('style', 'display: inline-block');\n",
       "\n",
       "    $(parent_element).append(this.root);\n",
       "\n",
       "    this._init_header(this);\n",
       "    this._init_canvas(this);\n",
       "    this._init_toolbar(this);\n",
       "\n",
       "    var fig = this;\n",
       "\n",
       "    this.waiting = false;\n",
       "\n",
       "    this.ws.onopen =  function () {\n",
       "            fig.send_message(\"supports_binary\", {value: fig.supports_binary});\n",
       "            fig.send_message(\"send_image_mode\", {});\n",
       "            if (mpl.ratio != 1) {\n",
       "                fig.send_message(\"set_dpi_ratio\", {'dpi_ratio': mpl.ratio});\n",
       "            }\n",
       "            fig.send_message(\"refresh\", {});\n",
       "        }\n",
       "\n",
       "    this.imageObj.onload = function() {\n",
       "            if (fig.image_mode == 'full') {\n",
       "                // Full images could contain transparency (where diff images\n",
       "                // almost always do), so we need to clear the canvas so that\n",
       "                // there is no ghosting.\n",
       "                fig.context.clearRect(0, 0, fig.canvas.width, fig.canvas.height);\n",
       "            }\n",
       "            fig.context.drawImage(fig.imageObj, 0, 0);\n",
       "        };\n",
       "\n",
       "    this.imageObj.onunload = function() {\n",
       "        fig.ws.close();\n",
       "    }\n",
       "\n",
       "    this.ws.onmessage = this._make_on_message_function(this);\n",
       "\n",
       "    this.ondownload = ondownload;\n",
       "}\n",
       "\n",
       "mpl.figure.prototype._init_header = function() {\n",
       "    var titlebar = $(\n",
       "        '<div class=\"ui-dialog-titlebar ui-widget-header ui-corner-all ' +\n",
       "        'ui-helper-clearfix\"/>');\n",
       "    var titletext = $(\n",
       "        '<div class=\"ui-dialog-title\" style=\"width: 100%; ' +\n",
       "        'text-align: center; padding: 3px;\"/>');\n",
       "    titlebar.append(titletext)\n",
       "    this.root.append(titlebar);\n",
       "    this.header = titletext[0];\n",
       "}\n",
       "\n",
       "\n",
       "\n",
       "mpl.figure.prototype._canvas_extra_style = function(canvas_div) {\n",
       "\n",
       "}\n",
       "\n",
       "\n",
       "mpl.figure.prototype._root_extra_style = function(canvas_div) {\n",
       "\n",
       "}\n",
       "\n",
       "mpl.figure.prototype._init_canvas = function() {\n",
       "    var fig = this;\n",
       "\n",
       "    var canvas_div = $('<div/>');\n",
       "\n",
       "    canvas_div.attr('style', 'position: relative; clear: both; outline: 0');\n",
       "\n",
       "    function canvas_keyboard_event(event) {\n",
       "        return fig.key_event(event, event['data']);\n",
       "    }\n",
       "\n",
       "    canvas_div.keydown('key_press', canvas_keyboard_event);\n",
       "    canvas_div.keyup('key_release', canvas_keyboard_event);\n",
       "    this.canvas_div = canvas_div\n",
       "    this._canvas_extra_style(canvas_div)\n",
       "    this.root.append(canvas_div);\n",
       "\n",
       "    var canvas = $('<canvas/>');\n",
       "    canvas.addClass('mpl-canvas');\n",
       "    canvas.attr('style', \"left: 0; top: 0; z-index: 0; outline: 0\")\n",
       "\n",
       "    this.canvas = canvas[0];\n",
       "    this.context = canvas[0].getContext(\"2d\");\n",
       "\n",
       "    var backingStore = this.context.backingStorePixelRatio ||\n",
       "\tthis.context.webkitBackingStorePixelRatio ||\n",
       "\tthis.context.mozBackingStorePixelRatio ||\n",
       "\tthis.context.msBackingStorePixelRatio ||\n",
       "\tthis.context.oBackingStorePixelRatio ||\n",
       "\tthis.context.backingStorePixelRatio || 1;\n",
       "\n",
       "    mpl.ratio = (window.devicePixelRatio || 1) / backingStore;\n",
       "\n",
       "    var rubberband = $('<canvas/>');\n",
       "    rubberband.attr('style', \"position: absolute; left: 0; top: 0; z-index: 1;\")\n",
       "\n",
       "    var pass_mouse_events = true;\n",
       "\n",
       "    canvas_div.resizable({\n",
       "        start: function(event, ui) {\n",
       "            pass_mouse_events = false;\n",
       "        },\n",
       "        resize: function(event, ui) {\n",
       "            fig.request_resize(ui.size.width, ui.size.height);\n",
       "        },\n",
       "        stop: function(event, ui) {\n",
       "            pass_mouse_events = true;\n",
       "            fig.request_resize(ui.size.width, ui.size.height);\n",
       "        },\n",
       "    });\n",
       "\n",
       "    function mouse_event_fn(event) {\n",
       "        if (pass_mouse_events)\n",
       "            return fig.mouse_event(event, event['data']);\n",
       "    }\n",
       "\n",
       "    rubberband.mousedown('button_press', mouse_event_fn);\n",
       "    rubberband.mouseup('button_release', mouse_event_fn);\n",
       "    // Throttle sequential mouse events to 1 every 20ms.\n",
       "    rubberband.mousemove('motion_notify', mouse_event_fn);\n",
       "\n",
       "    rubberband.mouseenter('figure_enter', mouse_event_fn);\n",
       "    rubberband.mouseleave('figure_leave', mouse_event_fn);\n",
       "\n",
       "    canvas_div.on(\"wheel\", function (event) {\n",
       "        event = event.originalEvent;\n",
       "        event['data'] = 'scroll'\n",
       "        if (event.deltaY < 0) {\n",
       "            event.step = 1;\n",
       "        } else {\n",
       "            event.step = -1;\n",
       "        }\n",
       "        mouse_event_fn(event);\n",
       "    });\n",
       "\n",
       "    canvas_div.append(canvas);\n",
       "    canvas_div.append(rubberband);\n",
       "\n",
       "    this.rubberband = rubberband;\n",
       "    this.rubberband_canvas = rubberband[0];\n",
       "    this.rubberband_context = rubberband[0].getContext(\"2d\");\n",
       "    this.rubberband_context.strokeStyle = \"#000000\";\n",
       "\n",
       "    this._resize_canvas = function(width, height) {\n",
       "        // Keep the size of the canvas, canvas container, and rubber band\n",
       "        // canvas in synch.\n",
       "        canvas_div.css('width', width)\n",
       "        canvas_div.css('height', height)\n",
       "\n",
       "        canvas.attr('width', width * mpl.ratio);\n",
       "        canvas.attr('height', height * mpl.ratio);\n",
       "        canvas.attr('style', 'width: ' + width + 'px; height: ' + height + 'px;');\n",
       "\n",
       "        rubberband.attr('width', width);\n",
       "        rubberband.attr('height', height);\n",
       "    }\n",
       "\n",
       "    // Set the figure to an initial 600x600px, this will subsequently be updated\n",
       "    // upon first draw.\n",
       "    this._resize_canvas(600, 600);\n",
       "\n",
       "    // Disable right mouse context menu.\n",
       "    $(this.rubberband_canvas).bind(\"contextmenu\",function(e){\n",
       "        return false;\n",
       "    });\n",
       "\n",
       "    function set_focus () {\n",
       "        canvas.focus();\n",
       "        canvas_div.focus();\n",
       "    }\n",
       "\n",
       "    window.setTimeout(set_focus, 100);\n",
       "}\n",
       "\n",
       "mpl.figure.prototype._init_toolbar = function() {\n",
       "    var fig = this;\n",
       "\n",
       "    var nav_element = $('<div/>');\n",
       "    nav_element.attr('style', 'width: 100%');\n",
       "    this.root.append(nav_element);\n",
       "\n",
       "    // Define a callback function for later on.\n",
       "    function toolbar_event(event) {\n",
       "        return fig.toolbar_button_onclick(event['data']);\n",
       "    }\n",
       "    function toolbar_mouse_event(event) {\n",
       "        return fig.toolbar_button_onmouseover(event['data']);\n",
       "    }\n",
       "\n",
       "    for(var toolbar_ind in mpl.toolbar_items) {\n",
       "        var name = mpl.toolbar_items[toolbar_ind][0];\n",
       "        var tooltip = mpl.toolbar_items[toolbar_ind][1];\n",
       "        var image = mpl.toolbar_items[toolbar_ind][2];\n",
       "        var method_name = mpl.toolbar_items[toolbar_ind][3];\n",
       "\n",
       "        if (!name) {\n",
       "            // put a spacer in here.\n",
       "            continue;\n",
       "        }\n",
       "        var button = $('<button/>');\n",
       "        button.addClass('ui-button ui-widget ui-state-default ui-corner-all ' +\n",
       "                        'ui-button-icon-only');\n",
       "        button.attr('role', 'button');\n",
       "        button.attr('aria-disabled', 'false');\n",
       "        button.click(method_name, toolbar_event);\n",
       "        button.mouseover(tooltip, toolbar_mouse_event);\n",
       "\n",
       "        var icon_img = $('<span/>');\n",
       "        icon_img.addClass('ui-button-icon-primary ui-icon');\n",
       "        icon_img.addClass(image);\n",
       "        icon_img.addClass('ui-corner-all');\n",
       "\n",
       "        var tooltip_span = $('<span/>');\n",
       "        tooltip_span.addClass('ui-button-text');\n",
       "        tooltip_span.html(tooltip);\n",
       "\n",
       "        button.append(icon_img);\n",
       "        button.append(tooltip_span);\n",
       "\n",
       "        nav_element.append(button);\n",
       "    }\n",
       "\n",
       "    var fmt_picker_span = $('<span/>');\n",
       "\n",
       "    var fmt_picker = $('<select/>');\n",
       "    fmt_picker.addClass('mpl-toolbar-option ui-widget ui-widget-content');\n",
       "    fmt_picker_span.append(fmt_picker);\n",
       "    nav_element.append(fmt_picker_span);\n",
       "    this.format_dropdown = fmt_picker[0];\n",
       "\n",
       "    for (var ind in mpl.extensions) {\n",
       "        var fmt = mpl.extensions[ind];\n",
       "        var option = $(\n",
       "            '<option/>', {selected: fmt === mpl.default_extension}).html(fmt);\n",
       "        fmt_picker.append(option);\n",
       "    }\n",
       "\n",
       "    // Add hover states to the ui-buttons\n",
       "    $( \".ui-button\" ).hover(\n",
       "        function() { $(this).addClass(\"ui-state-hover\");},\n",
       "        function() { $(this).removeClass(\"ui-state-hover\");}\n",
       "    );\n",
       "\n",
       "    var status_bar = $('<span class=\"mpl-message\"/>');\n",
       "    nav_element.append(status_bar);\n",
       "    this.message = status_bar[0];\n",
       "}\n",
       "\n",
       "mpl.figure.prototype.request_resize = function(x_pixels, y_pixels) {\n",
       "    // Request matplotlib to resize the figure. Matplotlib will then trigger a resize in the client,\n",
       "    // which will in turn request a refresh of the image.\n",
       "    this.send_message('resize', {'width': x_pixels, 'height': y_pixels});\n",
       "}\n",
       "\n",
       "mpl.figure.prototype.send_message = function(type, properties) {\n",
       "    properties['type'] = type;\n",
       "    properties['figure_id'] = this.id;\n",
       "    this.ws.send(JSON.stringify(properties));\n",
       "}\n",
       "\n",
       "mpl.figure.prototype.send_draw_message = function() {\n",
       "    if (!this.waiting) {\n",
       "        this.waiting = true;\n",
       "        this.ws.send(JSON.stringify({type: \"draw\", figure_id: this.id}));\n",
       "    }\n",
       "}\n",
       "\n",
       "\n",
       "mpl.figure.prototype.handle_save = function(fig, msg) {\n",
       "    var format_dropdown = fig.format_dropdown;\n",
       "    var format = format_dropdown.options[format_dropdown.selectedIndex].value;\n",
       "    fig.ondownload(fig, format);\n",
       "}\n",
       "\n",
       "\n",
       "mpl.figure.prototype.handle_resize = function(fig, msg) {\n",
       "    var size = msg['size'];\n",
       "    if (size[0] != fig.canvas.width || size[1] != fig.canvas.height) {\n",
       "        fig._resize_canvas(size[0], size[1]);\n",
       "        fig.send_message(\"refresh\", {});\n",
       "    };\n",
       "}\n",
       "\n",
       "mpl.figure.prototype.handle_rubberband = function(fig, msg) {\n",
       "    var x0 = msg['x0'] / mpl.ratio;\n",
       "    var y0 = (fig.canvas.height - msg['y0']) / mpl.ratio;\n",
       "    var x1 = msg['x1'] / mpl.ratio;\n",
       "    var y1 = (fig.canvas.height - msg['y1']) / mpl.ratio;\n",
       "    x0 = Math.floor(x0) + 0.5;\n",
       "    y0 = Math.floor(y0) + 0.5;\n",
       "    x1 = Math.floor(x1) + 0.5;\n",
       "    y1 = Math.floor(y1) + 0.5;\n",
       "    var min_x = Math.min(x0, x1);\n",
       "    var min_y = Math.min(y0, y1);\n",
       "    var width = Math.abs(x1 - x0);\n",
       "    var height = Math.abs(y1 - y0);\n",
       "\n",
       "    fig.rubberband_context.clearRect(\n",
       "        0, 0, fig.canvas.width / mpl.ratio, fig.canvas.height / mpl.ratio);\n",
       "\n",
       "    fig.rubberband_context.strokeRect(min_x, min_y, width, height);\n",
       "}\n",
       "\n",
       "mpl.figure.prototype.handle_figure_label = function(fig, msg) {\n",
       "    // Updates the figure title.\n",
       "    fig.header.textContent = msg['label'];\n",
       "}\n",
       "\n",
       "mpl.figure.prototype.handle_cursor = function(fig, msg) {\n",
       "    var cursor = msg['cursor'];\n",
       "    switch(cursor)\n",
       "    {\n",
       "    case 0:\n",
       "        cursor = 'pointer';\n",
       "        break;\n",
       "    case 1:\n",
       "        cursor = 'default';\n",
       "        break;\n",
       "    case 2:\n",
       "        cursor = 'crosshair';\n",
       "        break;\n",
       "    case 3:\n",
       "        cursor = 'move';\n",
       "        break;\n",
       "    }\n",
       "    fig.rubberband_canvas.style.cursor = cursor;\n",
       "}\n",
       "\n",
       "mpl.figure.prototype.handle_message = function(fig, msg) {\n",
       "    fig.message.textContent = msg['message'];\n",
       "}\n",
       "\n",
       "mpl.figure.prototype.handle_draw = function(fig, msg) {\n",
       "    // Request the server to send over a new figure.\n",
       "    fig.send_draw_message();\n",
       "}\n",
       "\n",
       "mpl.figure.prototype.handle_image_mode = function(fig, msg) {\n",
       "    fig.image_mode = msg['mode'];\n",
       "}\n",
       "\n",
       "mpl.figure.prototype.updated_canvas_event = function() {\n",
       "    // Called whenever the canvas gets updated.\n",
       "    this.send_message(\"ack\", {});\n",
       "}\n",
       "\n",
       "// A function to construct a web socket function for onmessage handling.\n",
       "// Called in the figure constructor.\n",
       "mpl.figure.prototype._make_on_message_function = function(fig) {\n",
       "    return function socket_on_message(evt) {\n",
       "        if (evt.data instanceof Blob) {\n",
       "            /* FIXME: We get \"Resource interpreted as Image but\n",
       "             * transferred with MIME type text/plain:\" errors on\n",
       "             * Chrome.  But how to set the MIME type?  It doesn't seem\n",
       "             * to be part of the websocket stream */\n",
       "            evt.data.type = \"image/png\";\n",
       "\n",
       "            /* Free the memory for the previous frames */\n",
       "            if (fig.imageObj.src) {\n",
       "                (window.URL || window.webkitURL).revokeObjectURL(\n",
       "                    fig.imageObj.src);\n",
       "            }\n",
       "\n",
       "            fig.imageObj.src = (window.URL || window.webkitURL).createObjectURL(\n",
       "                evt.data);\n",
       "            fig.updated_canvas_event();\n",
       "            fig.waiting = false;\n",
       "            return;\n",
       "        }\n",
       "        else if (typeof evt.data === 'string' && evt.data.slice(0, 21) == \"data:image/png;base64\") {\n",
       "            fig.imageObj.src = evt.data;\n",
       "            fig.updated_canvas_event();\n",
       "            fig.waiting = false;\n",
       "            return;\n",
       "        }\n",
       "\n",
       "        var msg = JSON.parse(evt.data);\n",
       "        var msg_type = msg['type'];\n",
       "\n",
       "        // Call the  \"handle_{type}\" callback, which takes\n",
       "        // the figure and JSON message as its only arguments.\n",
       "        try {\n",
       "            var callback = fig[\"handle_\" + msg_type];\n",
       "        } catch (e) {\n",
       "            console.log(\"No handler for the '\" + msg_type + \"' message type: \", msg);\n",
       "            return;\n",
       "        }\n",
       "\n",
       "        if (callback) {\n",
       "            try {\n",
       "                // console.log(\"Handling '\" + msg_type + \"' message: \", msg);\n",
       "                callback(fig, msg);\n",
       "            } catch (e) {\n",
       "                console.log(\"Exception inside the 'handler_\" + msg_type + \"' callback:\", e, e.stack, msg);\n",
       "            }\n",
       "        }\n",
       "    };\n",
       "}\n",
       "\n",
       "// from http://stackoverflow.com/questions/1114465/getting-mouse-location-in-canvas\n",
       "mpl.findpos = function(e) {\n",
       "    //this section is from http://www.quirksmode.org/js/events_properties.html\n",
       "    var targ;\n",
       "    if (!e)\n",
       "        e = window.event;\n",
       "    if (e.target)\n",
       "        targ = e.target;\n",
       "    else if (e.srcElement)\n",
       "        targ = e.srcElement;\n",
       "    if (targ.nodeType == 3) // defeat Safari bug\n",
       "        targ = targ.parentNode;\n",
       "\n",
       "    // jQuery normalizes the pageX and pageY\n",
       "    // pageX,Y are the mouse positions relative to the document\n",
       "    // offset() returns the position of the element relative to the document\n",
       "    var x = e.pageX - $(targ).offset().left;\n",
       "    var y = e.pageY - $(targ).offset().top;\n",
       "\n",
       "    return {\"x\": x, \"y\": y};\n",
       "};\n",
       "\n",
       "/*\n",
       " * return a copy of an object with only non-object keys\n",
       " * we need this to avoid circular references\n",
       " * http://stackoverflow.com/a/24161582/3208463\n",
       " */\n",
       "function simpleKeys (original) {\n",
       "  return Object.keys(original).reduce(function (obj, key) {\n",
       "    if (typeof original[key] !== 'object')\n",
       "        obj[key] = original[key]\n",
       "    return obj;\n",
       "  }, {});\n",
       "}\n",
       "\n",
       "mpl.figure.prototype.mouse_event = function(event, name) {\n",
       "    var canvas_pos = mpl.findpos(event)\n",
       "\n",
       "    if (name === 'button_press')\n",
       "    {\n",
       "        this.canvas.focus();\n",
       "        this.canvas_div.focus();\n",
       "    }\n",
       "\n",
       "    var x = canvas_pos.x * mpl.ratio;\n",
       "    var y = canvas_pos.y * mpl.ratio;\n",
       "\n",
       "    this.send_message(name, {x: x, y: y, button: event.button,\n",
       "                             step: event.step,\n",
       "                             guiEvent: simpleKeys(event)});\n",
       "\n",
       "    /* This prevents the web browser from automatically changing to\n",
       "     * the text insertion cursor when the button is pressed.  We want\n",
       "     * to control all of the cursor setting manually through the\n",
       "     * 'cursor' event from matplotlib */\n",
       "    event.preventDefault();\n",
       "    return false;\n",
       "}\n",
       "\n",
       "mpl.figure.prototype._key_event_extra = function(event, name) {\n",
       "    // Handle any extra behaviour associated with a key event\n",
       "}\n",
       "\n",
       "mpl.figure.prototype.key_event = function(event, name) {\n",
       "\n",
       "    // Prevent repeat events\n",
       "    if (name == 'key_press')\n",
       "    {\n",
       "        if (event.which === this._key)\n",
       "            return;\n",
       "        else\n",
       "            this._key = event.which;\n",
       "    }\n",
       "    if (name == 'key_release')\n",
       "        this._key = null;\n",
       "\n",
       "    var value = '';\n",
       "    if (event.ctrlKey && event.which != 17)\n",
       "        value += \"ctrl+\";\n",
       "    if (event.altKey && event.which != 18)\n",
       "        value += \"alt+\";\n",
       "    if (event.shiftKey && event.which != 16)\n",
       "        value += \"shift+\";\n",
       "\n",
       "    value += 'k';\n",
       "    value += event.which.toString();\n",
       "\n",
       "    this._key_event_extra(event, name);\n",
       "\n",
       "    this.send_message(name, {key: value,\n",
       "                             guiEvent: simpleKeys(event)});\n",
       "    return false;\n",
       "}\n",
       "\n",
       "mpl.figure.prototype.toolbar_button_onclick = function(name) {\n",
       "    if (name == 'download') {\n",
       "        this.handle_save(this, null);\n",
       "    } else {\n",
       "        this.send_message(\"toolbar_button\", {name: name});\n",
       "    }\n",
       "};\n",
       "\n",
       "mpl.figure.prototype.toolbar_button_onmouseover = function(tooltip) {\n",
       "    this.message.textContent = tooltip;\n",
       "};\n",
       "mpl.toolbar_items = [[\"Home\", \"Reset original view\", \"fa fa-home icon-home\", \"home\"], [\"Back\", \"Back to previous view\", \"fa fa-arrow-left icon-arrow-left\", \"back\"], [\"Forward\", \"Forward to next view\", \"fa fa-arrow-right icon-arrow-right\", \"forward\"], [\"\", \"\", \"\", \"\"], [\"Pan\", \"Pan axes with left mouse, zoom with right\", \"fa fa-arrows icon-move\", \"pan\"], [\"Zoom\", \"Zoom to rectangle\", \"fa fa-square-o icon-check-empty\", \"zoom\"], [\"\", \"\", \"\", \"\"], [\"Download\", \"Download plot\", \"fa fa-floppy-o icon-save\", \"download\"]];\n",
       "\n",
       "mpl.extensions = [\"eps\", \"jpeg\", \"pdf\", \"png\", \"ps\", \"raw\", \"svg\", \"tif\"];\n",
       "\n",
       "mpl.default_extension = \"png\";var comm_websocket_adapter = function(comm) {\n",
       "    // Create a \"websocket\"-like object which calls the given IPython comm\n",
       "    // object with the appropriate methods. Currently this is a non binary\n",
       "    // socket, so there is still some room for performance tuning.\n",
       "    var ws = {};\n",
       "\n",
       "    ws.close = function() {\n",
       "        comm.close()\n",
       "    };\n",
       "    ws.send = function(m) {\n",
       "        //console.log('sending', m);\n",
       "        comm.send(m);\n",
       "    };\n",
       "    // Register the callback with on_msg.\n",
       "    comm.on_msg(function(msg) {\n",
       "        //console.log('receiving', msg['content']['data'], msg);\n",
       "        // Pass the mpl event to the overridden (by mpl) onmessage function.\n",
       "        ws.onmessage(msg['content']['data'])\n",
       "    });\n",
       "    return ws;\n",
       "}\n",
       "\n",
       "mpl.mpl_figure_comm = function(comm, msg) {\n",
       "    // This is the function which gets called when the mpl process\n",
       "    // starts-up an IPython Comm through the \"matplotlib\" channel.\n",
       "\n",
       "    var id = msg.content.data.id;\n",
       "    // Get hold of the div created by the display call when the Comm\n",
       "    // socket was opened in Python.\n",
       "    var element = $(\"#\" + id);\n",
       "    var ws_proxy = comm_websocket_adapter(comm)\n",
       "\n",
       "    function ondownload(figure, format) {\n",
       "        window.open(figure.imageObj.src);\n",
       "    }\n",
       "\n",
       "    var fig = new mpl.figure(id, ws_proxy,\n",
       "                           ondownload,\n",
       "                           element.get(0));\n",
       "\n",
       "    // Call onopen now - mpl needs it, as it is assuming we've passed it a real\n",
       "    // web socket which is closed, not our websocket->open comm proxy.\n",
       "    ws_proxy.onopen();\n",
       "\n",
       "    fig.parent_element = element.get(0);\n",
       "    fig.cell_info = mpl.find_output_cell(\"<div id='\" + id + \"'></div>\");\n",
       "    if (!fig.cell_info) {\n",
       "        console.error(\"Failed to find cell for figure\", id, fig);\n",
       "        return;\n",
       "    }\n",
       "\n",
       "    var output_index = fig.cell_info[2]\n",
       "    var cell = fig.cell_info[0];\n",
       "\n",
       "};\n",
       "\n",
       "mpl.figure.prototype.handle_close = function(fig, msg) {\n",
       "    var width = fig.canvas.width/mpl.ratio\n",
       "    fig.root.unbind('remove')\n",
       "\n",
       "    // Update the output cell to use the data from the current canvas.\n",
       "    fig.push_to_output();\n",
       "    var dataURL = fig.canvas.toDataURL();\n",
       "    // Re-enable the keyboard manager in IPython - without this line, in FF,\n",
       "    // the notebook keyboard shortcuts fail.\n",
       "    IPython.keyboard_manager.enable()\n",
       "    $(fig.parent_element).html('<img src=\"' + dataURL + '\" width=\"' + width + '\">');\n",
       "    fig.close_ws(fig, msg);\n",
       "}\n",
       "\n",
       "mpl.figure.prototype.close_ws = function(fig, msg){\n",
       "    fig.send_message('closing', msg);\n",
       "    // fig.ws.close()\n",
       "}\n",
       "\n",
       "mpl.figure.prototype.push_to_output = function(remove_interactive) {\n",
       "    // Turn the data on the canvas into data in the output cell.\n",
       "    var width = this.canvas.width/mpl.ratio\n",
       "    var dataURL = this.canvas.toDataURL();\n",
       "    this.cell_info[1]['text/html'] = '<img src=\"' + dataURL + '\" width=\"' + width + '\">';\n",
       "}\n",
       "\n",
       "mpl.figure.prototype.updated_canvas_event = function() {\n",
       "    // Tell IPython that the notebook contents must change.\n",
       "    IPython.notebook.set_dirty(true);\n",
       "    this.send_message(\"ack\", {});\n",
       "    var fig = this;\n",
       "    // Wait a second, then push the new image to the DOM so\n",
       "    // that it is saved nicely (might be nice to debounce this).\n",
       "    setTimeout(function () { fig.push_to_output() }, 1000);\n",
       "}\n",
       "\n",
       "mpl.figure.prototype._init_toolbar = function() {\n",
       "    var fig = this;\n",
       "\n",
       "    var nav_element = $('<div/>');\n",
       "    nav_element.attr('style', 'width: 100%');\n",
       "    this.root.append(nav_element);\n",
       "\n",
       "    // Define a callback function for later on.\n",
       "    function toolbar_event(event) {\n",
       "        return fig.toolbar_button_onclick(event['data']);\n",
       "    }\n",
       "    function toolbar_mouse_event(event) {\n",
       "        return fig.toolbar_button_onmouseover(event['data']);\n",
       "    }\n",
       "\n",
       "    for(var toolbar_ind in mpl.toolbar_items){\n",
       "        var name = mpl.toolbar_items[toolbar_ind][0];\n",
       "        var tooltip = mpl.toolbar_items[toolbar_ind][1];\n",
       "        var image = mpl.toolbar_items[toolbar_ind][2];\n",
       "        var method_name = mpl.toolbar_items[toolbar_ind][3];\n",
       "\n",
       "        if (!name) { continue; };\n",
       "\n",
       "        var button = $('<button class=\"btn btn-default\" href=\"#\" title=\"' + name + '\"><i class=\"fa ' + image + ' fa-lg\"></i></button>');\n",
       "        button.click(method_name, toolbar_event);\n",
       "        button.mouseover(tooltip, toolbar_mouse_event);\n",
       "        nav_element.append(button);\n",
       "    }\n",
       "\n",
       "    // Add the status bar.\n",
       "    var status_bar = $('<span class=\"mpl-message\" style=\"text-align:right; float: right;\"/>');\n",
       "    nav_element.append(status_bar);\n",
       "    this.message = status_bar[0];\n",
       "\n",
       "    // Add the close button to the window.\n",
       "    var buttongrp = $('<div class=\"btn-group inline pull-right\"></div>');\n",
       "    var button = $('<button class=\"btn btn-mini btn-primary\" href=\"#\" title=\"Stop Interaction\"><i class=\"fa fa-power-off icon-remove icon-large\"></i></button>');\n",
       "    button.click(function (evt) { fig.handle_close(fig, {}); } );\n",
       "    button.mouseover('Stop Interaction', toolbar_mouse_event);\n",
       "    buttongrp.append(button);\n",
       "    var titlebar = this.root.find($('.ui-dialog-titlebar'));\n",
       "    titlebar.prepend(buttongrp);\n",
       "}\n",
       "\n",
       "mpl.figure.prototype._root_extra_style = function(el){\n",
       "    var fig = this\n",
       "    el.on(\"remove\", function(){\n",
       "\tfig.close_ws(fig, {});\n",
       "    });\n",
       "}\n",
       "\n",
       "mpl.figure.prototype._canvas_extra_style = function(el){\n",
       "    // this is important to make the div 'focusable\n",
       "    el.attr('tabindex', 0)\n",
       "    // reach out to IPython and tell the keyboard manager to turn it's self\n",
       "    // off when our div gets focus\n",
       "\n",
       "    // location in version 3\n",
       "    if (IPython.notebook.keyboard_manager) {\n",
       "        IPython.notebook.keyboard_manager.register_events(el);\n",
       "    }\n",
       "    else {\n",
       "        // location in version 2\n",
       "        IPython.keyboard_manager.register_events(el);\n",
       "    }\n",
       "\n",
       "}\n",
       "\n",
       "mpl.figure.prototype._key_event_extra = function(event, name) {\n",
       "    var manager = IPython.notebook.keyboard_manager;\n",
       "    if (!manager)\n",
       "        manager = IPython.keyboard_manager;\n",
       "\n",
       "    // Check for shift+enter\n",
       "    if (event.shiftKey && event.which == 13) {\n",
       "        this.canvas_div.blur();\n",
       "        // select the cell after this one\n",
       "        var index = IPython.notebook.find_cell_index(this.cell_info[0]);\n",
       "        IPython.notebook.select(index + 1);\n",
       "    }\n",
       "}\n",
       "\n",
       "mpl.figure.prototype.handle_save = function(fig, msg) {\n",
       "    fig.ondownload(fig, null);\n",
       "}\n",
       "\n",
       "\n",
       "mpl.find_output_cell = function(html_output) {\n",
       "    // Return the cell and output element which can be found *uniquely* in the notebook.\n",
       "    // Note - this is a bit hacky, but it is done because the \"notebook_saving.Notebook\"\n",
       "    // IPython event is triggered only after the cells have been serialised, which for\n",
       "    // our purposes (turning an active figure into a static one), is too late.\n",
       "    var cells = IPython.notebook.get_cells();\n",
       "    var ncells = cells.length;\n",
       "    for (var i=0; i<ncells; i++) {\n",
       "        var cell = cells[i];\n",
       "        if (cell.cell_type === 'code'){\n",
       "            for (var j=0; j<cell.output_area.outputs.length; j++) {\n",
       "                var data = cell.output_area.outputs[j];\n",
       "                if (data.data) {\n",
       "                    // IPython >= 3 moved mimebundle to data attribute of output\n",
       "                    data = data.data;\n",
       "                }\n",
       "                if (data['text/html'] == html_output) {\n",
       "                    return [cell, data, j];\n",
       "                }\n",
       "            }\n",
       "        }\n",
       "    }\n",
       "}\n",
       "\n",
       "// Register the function which deals with the matplotlib target/channel.\n",
       "// The kernel may be null if the page has been refreshed.\n",
       "if (IPython.notebook.kernel != null) {\n",
       "    IPython.notebook.kernel.comm_manager.register_target('matplotlib', mpl.mpl_figure_comm);\n",
       "}\n"
      ],
      "text/plain": [
       "<IPython.core.display.Javascript object>"
      ]
     },
     "metadata": {},
     "output_type": "display_data"
    },
    {
     "data": {
      "text/html": [
       "<img src=\"data:image/png;base64,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\" width=\"640\">"
      ],
      "text/plain": [
       "<IPython.core.display.HTML object>"
      ]
     },
     "metadata": {},
     "output_type": "display_data"
    }
   ],
   "source": [
    "%matplotlib notebook\n",
    "classifier_list = [clf_gini\n",
    "                   ,clf_entropy,\n",
    "                   svm_clf_rbf,\n",
    "                   svm_clf_linear,\n",
    "                   svm_clf_poly,\n",
    "                   svm_clf_sigmoid,\n",
    "                   rf_gini,\n",
    "                   rf_entropy,\n",
    "                   ada,\n",
    "                   log_reg]\n",
    "\n",
    "pred_list = [clf_gini_pred,\n",
    "             clf_entropy_pred,\n",
    "             svm_clf_rbf_pred,\n",
    "             svm_clf_linear_pred,\n",
    "             svm_clf_poly_pred,\n",
    "             svm_clf_sigmoid_pred,\n",
    "             rf_gini_pred,\n",
    "             rf_entropy_pred,\n",
    "             ada_pred,\n",
    "             log_reg_pred]\n",
    "clf_labels = [\"DTree Gini\",\n",
    "             \"DTree Entropy\",\n",
    "             \"svm_clg_rbf_pred\",\"svm_clf_linear_pred\",\"svm_clf_poly_pred\",\"svm_clf_sigmoid_pred\",\n",
    "             \"RForest_Gini\",\n",
    "             \"RForest_Entropy\",\n",
    "             \"Adaboost\",\n",
    "             \"Logistic Regression\"]\n",
    "limiter = [\"Adaboost\",\"Logistic Regression\",\n",
    "           # \"RForest_Gini\",\"Rforest_Entropy\",\"DTree Gini\",\"DTree Entropy\"\n",
    "          ]\n",
    "generateRoc(test_data, test_label, classifier_list, pred_list, clf_labels, limiter)"
   ]
  },
  {
   "cell_type": "markdown",
   "metadata": {},
   "source": [
    "##### Let's see the actual and predicted  Income."
   ]
  },
  {
   "cell_type": "code",
   "execution_count": 52,
   "metadata": {},
   "outputs": [
    {
     "name": "stdout",
     "output_type": "stream",
     "text": [
      "Actual Income:\n",
      " 44575    <=50K\n",
      "5542      >50K\n",
      "23440    <=50K\n",
      "34224    <=50K\n",
      "32339    <=50K\n",
      "         ...  \n",
      "30251    <=50K\n",
      "36321    <=50K\n",
      "40688    <=50K\n",
      "48331     >50K\n",
      "42449    <=50K\n",
      "Name: target, Length: 8304, dtype: category\n",
      "Categories (2, object): [<=50K, >50K]\n",
      "Predicted Income:\n",
      " ['<=50K' '>50K' '<=50K' ... '<=50K' '>50K' '<=50K']\n"
     ]
    }
   ],
   "source": [
    "print(\"Actual Income:\\n\",test_label)\n",
    "print(\"Predicted Income:\\n\",ada_pred)"
   ]
  },
  {
   "cell_type": "markdown",
   "metadata": {},
   "source": [
    "## Saving the model\n",
    "##### We are going to save AdaBoost Classifier model with max. accuracy  86%"
   ]
  },
  {
   "cell_type": "code",
   "execution_count": 53,
   "metadata": {},
   "outputs": [
    {
     "data": {
      "text/plain": [
       "['ada_Preidcted_Income.obj']"
      ]
     },
     "execution_count": 53,
     "metadata": {},
     "output_type": "execute_result"
    }
   ],
   "source": [
    "import joblib \n",
    "joblib.dump(ada,\"ada_Preidcted_Income.obj\")"
   ]
  },
  {
   "cell_type": "markdown",
   "metadata": {},
   "source": [
    "## Conclusion:\n",
    "##### Our AdaBoost Classifier model is the best model among all with highest accuracy 86% , not only accuracy it also has the highest precision & F-measure among all models"
   ]
  }
 ],
 "metadata": {
  "kernelspec": {
   "display_name": "Python 3",
   "language": "python",
   "name": "python3"
  },
  "language_info": {
   "codemirror_mode": {
    "name": "ipython",
    "version": 3
   },
   "file_extension": ".py",
   "mimetype": "text/x-python",
   "name": "python",
   "nbconvert_exporter": "python",
   "pygments_lexer": "ipython3",
   "version": "3.8.3"
  }
 },
 "nbformat": 4,
 "nbformat_minor": 4
}
